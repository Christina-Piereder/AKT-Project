{
  "nbformat": 4,
  "nbformat_minor": 0,
  "metadata": {
    "colab": {
      "name": "Project_Piereder_Holzbauer.ipynb",
      "provenance": [],
      "collapsed_sections": []
    },
    "kernelspec": {
      "name": "python3",
      "display_name": "Python 3"
    },
    "language_info": {
      "name": "python"
    },
    "accelerator": "GPU",
    "widgets": {
      "application/vnd.jupyter.widget-state+json": {
        "11bde898cbfd4e5c837de31b5266007a": {
          "model_module": "@jupyter-widgets/controls",
          "model_name": "HBoxModel",
          "model_module_version": "1.5.0",
          "state": {
            "_view_name": "HBoxView",
            "_dom_classes": [],
            "_model_name": "HBoxModel",
            "_view_module": "@jupyter-widgets/controls",
            "_model_module_version": "1.5.0",
            "_view_count": null,
            "_view_module_version": "1.5.0",
            "box_style": "",
            "layout": "IPY_MODEL_f67c03f1a63f477eb688057caf01b4f3",
            "_model_module": "@jupyter-widgets/controls",
            "children": [
              "IPY_MODEL_b24096b9b538484cab83013237d46fda",
              "IPY_MODEL_e65b8d57cf4d4d80ba32ac7e958c3c42",
              "IPY_MODEL_f48320b9b79d4a08af610b6589475044"
            ]
          }
        },
        "f67c03f1a63f477eb688057caf01b4f3": {
          "model_module": "@jupyter-widgets/base",
          "model_name": "LayoutModel",
          "model_module_version": "1.2.0",
          "state": {
            "_view_name": "LayoutView",
            "grid_template_rows": null,
            "right": null,
            "justify_content": null,
            "_view_module": "@jupyter-widgets/base",
            "overflow": null,
            "_model_module_version": "1.2.0",
            "_view_count": null,
            "flex_flow": null,
            "width": null,
            "min_width": null,
            "border": null,
            "align_items": null,
            "bottom": null,
            "_model_module": "@jupyter-widgets/base",
            "top": null,
            "grid_column": null,
            "overflow_y": null,
            "overflow_x": null,
            "grid_auto_flow": null,
            "grid_area": null,
            "grid_template_columns": null,
            "flex": null,
            "_model_name": "LayoutModel",
            "justify_items": null,
            "grid_row": null,
            "max_height": null,
            "align_content": null,
            "visibility": null,
            "align_self": null,
            "height": null,
            "min_height": null,
            "padding": null,
            "grid_auto_rows": null,
            "grid_gap": null,
            "max_width": null,
            "order": null,
            "_view_module_version": "1.2.0",
            "grid_template_areas": null,
            "object_position": null,
            "object_fit": null,
            "grid_auto_columns": null,
            "margin": null,
            "display": null,
            "left": null
          }
        },
        "b24096b9b538484cab83013237d46fda": {
          "model_module": "@jupyter-widgets/controls",
          "model_name": "HTMLModel",
          "model_module_version": "1.5.0",
          "state": {
            "_view_name": "HTMLView",
            "style": "IPY_MODEL_4a196c9cde5e4adea9477bc0b825f81d",
            "_dom_classes": [],
            "description": "",
            "_model_name": "HTMLModel",
            "placeholder": "​",
            "_view_module": "@jupyter-widgets/controls",
            "_model_module_version": "1.5.0",
            "value": "100%",
            "_view_count": null,
            "_view_module_version": "1.5.0",
            "description_tooltip": null,
            "_model_module": "@jupyter-widgets/controls",
            "layout": "IPY_MODEL_92a10f6b75d648d7ad4d90ddb5bfe0b0"
          }
        },
        "e65b8d57cf4d4d80ba32ac7e958c3c42": {
          "model_module": "@jupyter-widgets/controls",
          "model_name": "FloatProgressModel",
          "model_module_version": "1.5.0",
          "state": {
            "_view_name": "ProgressView",
            "style": "IPY_MODEL_92aba228469a4d348a7435fd78a751bc",
            "_dom_classes": [],
            "description": "",
            "_model_name": "FloatProgressModel",
            "bar_style": "success",
            "max": 40287,
            "_view_module": "@jupyter-widgets/controls",
            "_model_module_version": "1.5.0",
            "value": 40287,
            "_view_count": null,
            "_view_module_version": "1.5.0",
            "orientation": "horizontal",
            "min": 0,
            "description_tooltip": null,
            "_model_module": "@jupyter-widgets/controls",
            "layout": "IPY_MODEL_4d90c5312ef941fb84bfc7c8a0c2ed0a"
          }
        },
        "f48320b9b79d4a08af610b6589475044": {
          "model_module": "@jupyter-widgets/controls",
          "model_name": "HTMLModel",
          "model_module_version": "1.5.0",
          "state": {
            "_view_name": "HTMLView",
            "style": "IPY_MODEL_c2e0b9f753c940dd96d3d60475c52dde",
            "_dom_classes": [],
            "description": "",
            "_model_name": "HTMLModel",
            "placeholder": "​",
            "_view_module": "@jupyter-widgets/controls",
            "_model_module_version": "1.5.0",
            "value": " 40287/40287 [05:42&lt;00:00, 139.62it/s]",
            "_view_count": null,
            "_view_module_version": "1.5.0",
            "description_tooltip": null,
            "_model_module": "@jupyter-widgets/controls",
            "layout": "IPY_MODEL_f863886f22294f7bb02b9dc2c4189a59"
          }
        },
        "4a196c9cde5e4adea9477bc0b825f81d": {
          "model_module": "@jupyter-widgets/controls",
          "model_name": "DescriptionStyleModel",
          "model_module_version": "1.5.0",
          "state": {
            "_view_name": "StyleView",
            "_model_name": "DescriptionStyleModel",
            "description_width": "",
            "_view_module": "@jupyter-widgets/base",
            "_model_module_version": "1.5.0",
            "_view_count": null,
            "_view_module_version": "1.2.0",
            "_model_module": "@jupyter-widgets/controls"
          }
        },
        "92a10f6b75d648d7ad4d90ddb5bfe0b0": {
          "model_module": "@jupyter-widgets/base",
          "model_name": "LayoutModel",
          "model_module_version": "1.2.0",
          "state": {
            "_view_name": "LayoutView",
            "grid_template_rows": null,
            "right": null,
            "justify_content": null,
            "_view_module": "@jupyter-widgets/base",
            "overflow": null,
            "_model_module_version": "1.2.0",
            "_view_count": null,
            "flex_flow": null,
            "width": null,
            "min_width": null,
            "border": null,
            "align_items": null,
            "bottom": null,
            "_model_module": "@jupyter-widgets/base",
            "top": null,
            "grid_column": null,
            "overflow_y": null,
            "overflow_x": null,
            "grid_auto_flow": null,
            "grid_area": null,
            "grid_template_columns": null,
            "flex": null,
            "_model_name": "LayoutModel",
            "justify_items": null,
            "grid_row": null,
            "max_height": null,
            "align_content": null,
            "visibility": null,
            "align_self": null,
            "height": null,
            "min_height": null,
            "padding": null,
            "grid_auto_rows": null,
            "grid_gap": null,
            "max_width": null,
            "order": null,
            "_view_module_version": "1.2.0",
            "grid_template_areas": null,
            "object_position": null,
            "object_fit": null,
            "grid_auto_columns": null,
            "margin": null,
            "display": null,
            "left": null
          }
        },
        "92aba228469a4d348a7435fd78a751bc": {
          "model_module": "@jupyter-widgets/controls",
          "model_name": "ProgressStyleModel",
          "model_module_version": "1.5.0",
          "state": {
            "_view_name": "StyleView",
            "_model_name": "ProgressStyleModel",
            "description_width": "",
            "_view_module": "@jupyter-widgets/base",
            "_model_module_version": "1.5.0",
            "_view_count": null,
            "_view_module_version": "1.2.0",
            "bar_color": null,
            "_model_module": "@jupyter-widgets/controls"
          }
        },
        "4d90c5312ef941fb84bfc7c8a0c2ed0a": {
          "model_module": "@jupyter-widgets/base",
          "model_name": "LayoutModel",
          "model_module_version": "1.2.0",
          "state": {
            "_view_name": "LayoutView",
            "grid_template_rows": null,
            "right": null,
            "justify_content": null,
            "_view_module": "@jupyter-widgets/base",
            "overflow": null,
            "_model_module_version": "1.2.0",
            "_view_count": null,
            "flex_flow": null,
            "width": null,
            "min_width": null,
            "border": null,
            "align_items": null,
            "bottom": null,
            "_model_module": "@jupyter-widgets/base",
            "top": null,
            "grid_column": null,
            "overflow_y": null,
            "overflow_x": null,
            "grid_auto_flow": null,
            "grid_area": null,
            "grid_template_columns": null,
            "flex": null,
            "_model_name": "LayoutModel",
            "justify_items": null,
            "grid_row": null,
            "max_height": null,
            "align_content": null,
            "visibility": null,
            "align_self": null,
            "height": null,
            "min_height": null,
            "padding": null,
            "grid_auto_rows": null,
            "grid_gap": null,
            "max_width": null,
            "order": null,
            "_view_module_version": "1.2.0",
            "grid_template_areas": null,
            "object_position": null,
            "object_fit": null,
            "grid_auto_columns": null,
            "margin": null,
            "display": null,
            "left": null
          }
        },
        "c2e0b9f753c940dd96d3d60475c52dde": {
          "model_module": "@jupyter-widgets/controls",
          "model_name": "DescriptionStyleModel",
          "model_module_version": "1.5.0",
          "state": {
            "_view_name": "StyleView",
            "_model_name": "DescriptionStyleModel",
            "description_width": "",
            "_view_module": "@jupyter-widgets/base",
            "_model_module_version": "1.5.0",
            "_view_count": null,
            "_view_module_version": "1.2.0",
            "_model_module": "@jupyter-widgets/controls"
          }
        },
        "f863886f22294f7bb02b9dc2c4189a59": {
          "model_module": "@jupyter-widgets/base",
          "model_name": "LayoutModel",
          "model_module_version": "1.2.0",
          "state": {
            "_view_name": "LayoutView",
            "grid_template_rows": null,
            "right": null,
            "justify_content": null,
            "_view_module": "@jupyter-widgets/base",
            "overflow": null,
            "_model_module_version": "1.2.0",
            "_view_count": null,
            "flex_flow": null,
            "width": null,
            "min_width": null,
            "border": null,
            "align_items": null,
            "bottom": null,
            "_model_module": "@jupyter-widgets/base",
            "top": null,
            "grid_column": null,
            "overflow_y": null,
            "overflow_x": null,
            "grid_auto_flow": null,
            "grid_area": null,
            "grid_template_columns": null,
            "flex": null,
            "_model_name": "LayoutModel",
            "justify_items": null,
            "grid_row": null,
            "max_height": null,
            "align_content": null,
            "visibility": null,
            "align_self": null,
            "height": null,
            "min_height": null,
            "padding": null,
            "grid_auto_rows": null,
            "grid_gap": null,
            "max_width": null,
            "order": null,
            "_view_module_version": "1.2.0",
            "grid_template_areas": null,
            "object_position": null,
            "object_fit": null,
            "grid_auto_columns": null,
            "margin": null,
            "display": null,
            "left": null
          }
        },
        "e537b35105d44b71bd53f2faf72d9e4e": {
          "model_module": "@jupyter-widgets/controls",
          "model_name": "HBoxModel",
          "model_module_version": "1.5.0",
          "state": {
            "_view_name": "HBoxView",
            "_dom_classes": [],
            "_model_name": "HBoxModel",
            "_view_module": "@jupyter-widgets/controls",
            "_model_module_version": "1.5.0",
            "_view_count": null,
            "_view_module_version": "1.5.0",
            "box_style": "",
            "layout": "IPY_MODEL_553d117ca4b546aa9aacad10ca74beef",
            "_model_module": "@jupyter-widgets/controls",
            "children": [
              "IPY_MODEL_02aedd4dda754aba8e45cc98000c2cfe",
              "IPY_MODEL_845b6f6f55854c789d8a7b4fec400e9b",
              "IPY_MODEL_f9375e2f264643c8aa4510ed92b21f6d"
            ]
          }
        },
        "553d117ca4b546aa9aacad10ca74beef": {
          "model_module": "@jupyter-widgets/base",
          "model_name": "LayoutModel",
          "model_module_version": "1.2.0",
          "state": {
            "_view_name": "LayoutView",
            "grid_template_rows": null,
            "right": null,
            "justify_content": null,
            "_view_module": "@jupyter-widgets/base",
            "overflow": null,
            "_model_module_version": "1.2.0",
            "_view_count": null,
            "flex_flow": null,
            "width": null,
            "min_width": null,
            "border": null,
            "align_items": null,
            "bottom": null,
            "_model_module": "@jupyter-widgets/base",
            "top": null,
            "grid_column": null,
            "overflow_y": null,
            "overflow_x": null,
            "grid_auto_flow": null,
            "grid_area": null,
            "grid_template_columns": null,
            "flex": null,
            "_model_name": "LayoutModel",
            "justify_items": null,
            "grid_row": null,
            "max_height": null,
            "align_content": null,
            "visibility": null,
            "align_self": null,
            "height": null,
            "min_height": null,
            "padding": null,
            "grid_auto_rows": null,
            "grid_gap": null,
            "max_width": null,
            "order": null,
            "_view_module_version": "1.2.0",
            "grid_template_areas": null,
            "object_position": null,
            "object_fit": null,
            "grid_auto_columns": null,
            "margin": null,
            "display": null,
            "left": null
          }
        },
        "02aedd4dda754aba8e45cc98000c2cfe": {
          "model_module": "@jupyter-widgets/controls",
          "model_name": "HTMLModel",
          "model_module_version": "1.5.0",
          "state": {
            "_view_name": "HTMLView",
            "style": "IPY_MODEL_3af1ad47d77e400782b95785a5c516c0",
            "_dom_classes": [],
            "description": "",
            "_model_name": "HTMLModel",
            "placeholder": "​",
            "_view_module": "@jupyter-widgets/controls",
            "_model_module_version": "1.5.0",
            "value": "100%",
            "_view_count": null,
            "_view_module_version": "1.5.0",
            "description_tooltip": null,
            "_model_module": "@jupyter-widgets/controls",
            "layout": "IPY_MODEL_6e930b3493ca4dbb9554265aa2d38ef5"
          }
        },
        "845b6f6f55854c789d8a7b4fec400e9b": {
          "model_module": "@jupyter-widgets/controls",
          "model_name": "FloatProgressModel",
          "model_module_version": "1.5.0",
          "state": {
            "_view_name": "ProgressView",
            "style": "IPY_MODEL_26760eb5db284aa385f5aa7d7a851490",
            "_dom_classes": [],
            "description": "",
            "_model_name": "FloatProgressModel",
            "bar_style": "success",
            "max": 13410,
            "_view_module": "@jupyter-widgets/controls",
            "_model_module_version": "1.5.0",
            "value": 13410,
            "_view_count": null,
            "_view_module_version": "1.5.0",
            "orientation": "horizontal",
            "min": 0,
            "description_tooltip": null,
            "_model_module": "@jupyter-widgets/controls",
            "layout": "IPY_MODEL_f652f160e4e04c2ba0b6258a3f6b3104"
          }
        },
        "f9375e2f264643c8aa4510ed92b21f6d": {
          "model_module": "@jupyter-widgets/controls",
          "model_name": "HTMLModel",
          "model_module_version": "1.5.0",
          "state": {
            "_view_name": "HTMLView",
            "style": "IPY_MODEL_8c94d1d11ae847bf95c84545c16c1cc0",
            "_dom_classes": [],
            "description": "",
            "_model_name": "HTMLModel",
            "placeholder": "​",
            "_view_module": "@jupyter-widgets/controls",
            "_model_module_version": "1.5.0",
            "value": " 13410/13410 [01:55&lt;00:00, 59.21it/s]",
            "_view_count": null,
            "_view_module_version": "1.5.0",
            "description_tooltip": null,
            "_model_module": "@jupyter-widgets/controls",
            "layout": "IPY_MODEL_561e55465bdd4a1ea601e965b3eb2af2"
          }
        },
        "3af1ad47d77e400782b95785a5c516c0": {
          "model_module": "@jupyter-widgets/controls",
          "model_name": "DescriptionStyleModel",
          "model_module_version": "1.5.0",
          "state": {
            "_view_name": "StyleView",
            "_model_name": "DescriptionStyleModel",
            "description_width": "",
            "_view_module": "@jupyter-widgets/base",
            "_model_module_version": "1.5.0",
            "_view_count": null,
            "_view_module_version": "1.2.0",
            "_model_module": "@jupyter-widgets/controls"
          }
        },
        "6e930b3493ca4dbb9554265aa2d38ef5": {
          "model_module": "@jupyter-widgets/base",
          "model_name": "LayoutModel",
          "model_module_version": "1.2.0",
          "state": {
            "_view_name": "LayoutView",
            "grid_template_rows": null,
            "right": null,
            "justify_content": null,
            "_view_module": "@jupyter-widgets/base",
            "overflow": null,
            "_model_module_version": "1.2.0",
            "_view_count": null,
            "flex_flow": null,
            "width": null,
            "min_width": null,
            "border": null,
            "align_items": null,
            "bottom": null,
            "_model_module": "@jupyter-widgets/base",
            "top": null,
            "grid_column": null,
            "overflow_y": null,
            "overflow_x": null,
            "grid_auto_flow": null,
            "grid_area": null,
            "grid_template_columns": null,
            "flex": null,
            "_model_name": "LayoutModel",
            "justify_items": null,
            "grid_row": null,
            "max_height": null,
            "align_content": null,
            "visibility": null,
            "align_self": null,
            "height": null,
            "min_height": null,
            "padding": null,
            "grid_auto_rows": null,
            "grid_gap": null,
            "max_width": null,
            "order": null,
            "_view_module_version": "1.2.0",
            "grid_template_areas": null,
            "object_position": null,
            "object_fit": null,
            "grid_auto_columns": null,
            "margin": null,
            "display": null,
            "left": null
          }
        },
        "26760eb5db284aa385f5aa7d7a851490": {
          "model_module": "@jupyter-widgets/controls",
          "model_name": "ProgressStyleModel",
          "model_module_version": "1.5.0",
          "state": {
            "_view_name": "StyleView",
            "_model_name": "ProgressStyleModel",
            "description_width": "",
            "_view_module": "@jupyter-widgets/base",
            "_model_module_version": "1.5.0",
            "_view_count": null,
            "_view_module_version": "1.2.0",
            "bar_color": null,
            "_model_module": "@jupyter-widgets/controls"
          }
        },
        "f652f160e4e04c2ba0b6258a3f6b3104": {
          "model_module": "@jupyter-widgets/base",
          "model_name": "LayoutModel",
          "model_module_version": "1.2.0",
          "state": {
            "_view_name": "LayoutView",
            "grid_template_rows": null,
            "right": null,
            "justify_content": null,
            "_view_module": "@jupyter-widgets/base",
            "overflow": null,
            "_model_module_version": "1.2.0",
            "_view_count": null,
            "flex_flow": null,
            "width": null,
            "min_width": null,
            "border": null,
            "align_items": null,
            "bottom": null,
            "_model_module": "@jupyter-widgets/base",
            "top": null,
            "grid_column": null,
            "overflow_y": null,
            "overflow_x": null,
            "grid_auto_flow": null,
            "grid_area": null,
            "grid_template_columns": null,
            "flex": null,
            "_model_name": "LayoutModel",
            "justify_items": null,
            "grid_row": null,
            "max_height": null,
            "align_content": null,
            "visibility": null,
            "align_self": null,
            "height": null,
            "min_height": null,
            "padding": null,
            "grid_auto_rows": null,
            "grid_gap": null,
            "max_width": null,
            "order": null,
            "_view_module_version": "1.2.0",
            "grid_template_areas": null,
            "object_position": null,
            "object_fit": null,
            "grid_auto_columns": null,
            "margin": null,
            "display": null,
            "left": null
          }
        },
        "8c94d1d11ae847bf95c84545c16c1cc0": {
          "model_module": "@jupyter-widgets/controls",
          "model_name": "DescriptionStyleModel",
          "model_module_version": "1.5.0",
          "state": {
            "_view_name": "StyleView",
            "_model_name": "DescriptionStyleModel",
            "description_width": "",
            "_view_module": "@jupyter-widgets/base",
            "_model_module_version": "1.5.0",
            "_view_count": null,
            "_view_module_version": "1.2.0",
            "_model_module": "@jupyter-widgets/controls"
          }
        },
        "561e55465bdd4a1ea601e965b3eb2af2": {
          "model_module": "@jupyter-widgets/base",
          "model_name": "LayoutModel",
          "model_module_version": "1.2.0",
          "state": {
            "_view_name": "LayoutView",
            "grid_template_rows": null,
            "right": null,
            "justify_content": null,
            "_view_module": "@jupyter-widgets/base",
            "overflow": null,
            "_model_module_version": "1.2.0",
            "_view_count": null,
            "flex_flow": null,
            "width": null,
            "min_width": null,
            "border": null,
            "align_items": null,
            "bottom": null,
            "_model_module": "@jupyter-widgets/base",
            "top": null,
            "grid_column": null,
            "overflow_y": null,
            "overflow_x": null,
            "grid_auto_flow": null,
            "grid_area": null,
            "grid_template_columns": null,
            "flex": null,
            "_model_name": "LayoutModel",
            "justify_items": null,
            "grid_row": null,
            "max_height": null,
            "align_content": null,
            "visibility": null,
            "align_self": null,
            "height": null,
            "min_height": null,
            "padding": null,
            "grid_auto_rows": null,
            "grid_gap": null,
            "max_width": null,
            "order": null,
            "_view_module_version": "1.2.0",
            "grid_template_areas": null,
            "object_position": null,
            "object_fit": null,
            "grid_auto_columns": null,
            "margin": null,
            "display": null,
            "left": null
          }
        },
        "857881efa088480a953ed71fdc031d4a": {
          "model_module": "@jupyter-widgets/controls",
          "model_name": "HBoxModel",
          "model_module_version": "1.5.0",
          "state": {
            "_view_name": "HBoxView",
            "_dom_classes": [],
            "_model_name": "HBoxModel",
            "_view_module": "@jupyter-widgets/controls",
            "_model_module_version": "1.5.0",
            "_view_count": null,
            "_view_module_version": "1.5.0",
            "box_style": "",
            "layout": "IPY_MODEL_6ed75428302848a0b0e71dc64f58ffaf",
            "_model_module": "@jupyter-widgets/controls",
            "children": [
              "IPY_MODEL_593b910e02ce404bb93657c054c8e2d5",
              "IPY_MODEL_53764ababd184da6b4e5f94ccd6f8112",
              "IPY_MODEL_f70adb34e1d04c17b04a396bbaa575df"
            ]
          }
        },
        "6ed75428302848a0b0e71dc64f58ffaf": {
          "model_module": "@jupyter-widgets/base",
          "model_name": "LayoutModel",
          "model_module_version": "1.2.0",
          "state": {
            "_view_name": "LayoutView",
            "grid_template_rows": null,
            "right": null,
            "justify_content": null,
            "_view_module": "@jupyter-widgets/base",
            "overflow": null,
            "_model_module_version": "1.2.0",
            "_view_count": null,
            "flex_flow": null,
            "width": null,
            "min_width": null,
            "border": null,
            "align_items": null,
            "bottom": null,
            "_model_module": "@jupyter-widgets/base",
            "top": null,
            "grid_column": null,
            "overflow_y": null,
            "overflow_x": null,
            "grid_auto_flow": null,
            "grid_area": null,
            "grid_template_columns": null,
            "flex": null,
            "_model_name": "LayoutModel",
            "justify_items": null,
            "grid_row": null,
            "max_height": null,
            "align_content": null,
            "visibility": null,
            "align_self": null,
            "height": null,
            "min_height": null,
            "padding": null,
            "grid_auto_rows": null,
            "grid_gap": null,
            "max_width": null,
            "order": null,
            "_view_module_version": "1.2.0",
            "grid_template_areas": null,
            "object_position": null,
            "object_fit": null,
            "grid_auto_columns": null,
            "margin": null,
            "display": null,
            "left": null
          }
        },
        "593b910e02ce404bb93657c054c8e2d5": {
          "model_module": "@jupyter-widgets/controls",
          "model_name": "HTMLModel",
          "model_module_version": "1.5.0",
          "state": {
            "_view_name": "HTMLView",
            "style": "IPY_MODEL_850c5119f7004736ac701ac814cb4391",
            "_dom_classes": [],
            "description": "",
            "_model_name": "HTMLModel",
            "placeholder": "​",
            "_view_module": "@jupyter-widgets/controls",
            "_model_module_version": "1.5.0",
            "value": "100%",
            "_view_count": null,
            "_view_module_version": "1.5.0",
            "description_tooltip": null,
            "_model_module": "@jupyter-widgets/controls",
            "layout": "IPY_MODEL_662af2bfc18346bdb1ed6d9bd71079d7"
          }
        },
        "53764ababd184da6b4e5f94ccd6f8112": {
          "model_module": "@jupyter-widgets/controls",
          "model_name": "FloatProgressModel",
          "model_module_version": "1.5.0",
          "state": {
            "_view_name": "ProgressView",
            "style": "IPY_MODEL_887441bc10224b1eb330aa76f5c2fe19",
            "_dom_classes": [],
            "description": "",
            "_model_name": "FloatProgressModel",
            "bar_style": "success",
            "max": 13410,
            "_view_module": "@jupyter-widgets/controls",
            "_model_module_version": "1.5.0",
            "value": 13410,
            "_view_count": null,
            "_view_module_version": "1.5.0",
            "orientation": "horizontal",
            "min": 0,
            "description_tooltip": null,
            "_model_module": "@jupyter-widgets/controls",
            "layout": "IPY_MODEL_b6527717b7724773969dc47e7e93137f"
          }
        },
        "f70adb34e1d04c17b04a396bbaa575df": {
          "model_module": "@jupyter-widgets/controls",
          "model_name": "HTMLModel",
          "model_module_version": "1.5.0",
          "state": {
            "_view_name": "HTMLView",
            "style": "IPY_MODEL_57a86b67169748289c9ef6af587f7c9f",
            "_dom_classes": [],
            "description": "",
            "_model_name": "HTMLModel",
            "placeholder": "​",
            "_view_module": "@jupyter-widgets/controls",
            "_model_module_version": "1.5.0",
            "value": " 13410/13410 [01:57&lt;00:00, 65.94it/s]",
            "_view_count": null,
            "_view_module_version": "1.5.0",
            "description_tooltip": null,
            "_model_module": "@jupyter-widgets/controls",
            "layout": "IPY_MODEL_c9b82fa9e0254f43a61a64d14465f36c"
          }
        },
        "850c5119f7004736ac701ac814cb4391": {
          "model_module": "@jupyter-widgets/controls",
          "model_name": "DescriptionStyleModel",
          "model_module_version": "1.5.0",
          "state": {
            "_view_name": "StyleView",
            "_model_name": "DescriptionStyleModel",
            "description_width": "",
            "_view_module": "@jupyter-widgets/base",
            "_model_module_version": "1.5.0",
            "_view_count": null,
            "_view_module_version": "1.2.0",
            "_model_module": "@jupyter-widgets/controls"
          }
        },
        "662af2bfc18346bdb1ed6d9bd71079d7": {
          "model_module": "@jupyter-widgets/base",
          "model_name": "LayoutModel",
          "model_module_version": "1.2.0",
          "state": {
            "_view_name": "LayoutView",
            "grid_template_rows": null,
            "right": null,
            "justify_content": null,
            "_view_module": "@jupyter-widgets/base",
            "overflow": null,
            "_model_module_version": "1.2.0",
            "_view_count": null,
            "flex_flow": null,
            "width": null,
            "min_width": null,
            "border": null,
            "align_items": null,
            "bottom": null,
            "_model_module": "@jupyter-widgets/base",
            "top": null,
            "grid_column": null,
            "overflow_y": null,
            "overflow_x": null,
            "grid_auto_flow": null,
            "grid_area": null,
            "grid_template_columns": null,
            "flex": null,
            "_model_name": "LayoutModel",
            "justify_items": null,
            "grid_row": null,
            "max_height": null,
            "align_content": null,
            "visibility": null,
            "align_self": null,
            "height": null,
            "min_height": null,
            "padding": null,
            "grid_auto_rows": null,
            "grid_gap": null,
            "max_width": null,
            "order": null,
            "_view_module_version": "1.2.0",
            "grid_template_areas": null,
            "object_position": null,
            "object_fit": null,
            "grid_auto_columns": null,
            "margin": null,
            "display": null,
            "left": null
          }
        },
        "887441bc10224b1eb330aa76f5c2fe19": {
          "model_module": "@jupyter-widgets/controls",
          "model_name": "ProgressStyleModel",
          "model_module_version": "1.5.0",
          "state": {
            "_view_name": "StyleView",
            "_model_name": "ProgressStyleModel",
            "description_width": "",
            "_view_module": "@jupyter-widgets/base",
            "_model_module_version": "1.5.0",
            "_view_count": null,
            "_view_module_version": "1.2.0",
            "bar_color": null,
            "_model_module": "@jupyter-widgets/controls"
          }
        },
        "b6527717b7724773969dc47e7e93137f": {
          "model_module": "@jupyter-widgets/base",
          "model_name": "LayoutModel",
          "model_module_version": "1.2.0",
          "state": {
            "_view_name": "LayoutView",
            "grid_template_rows": null,
            "right": null,
            "justify_content": null,
            "_view_module": "@jupyter-widgets/base",
            "overflow": null,
            "_model_module_version": "1.2.0",
            "_view_count": null,
            "flex_flow": null,
            "width": null,
            "min_width": null,
            "border": null,
            "align_items": null,
            "bottom": null,
            "_model_module": "@jupyter-widgets/base",
            "top": null,
            "grid_column": null,
            "overflow_y": null,
            "overflow_x": null,
            "grid_auto_flow": null,
            "grid_area": null,
            "grid_template_columns": null,
            "flex": null,
            "_model_name": "LayoutModel",
            "justify_items": null,
            "grid_row": null,
            "max_height": null,
            "align_content": null,
            "visibility": null,
            "align_self": null,
            "height": null,
            "min_height": null,
            "padding": null,
            "grid_auto_rows": null,
            "grid_gap": null,
            "max_width": null,
            "order": null,
            "_view_module_version": "1.2.0",
            "grid_template_areas": null,
            "object_position": null,
            "object_fit": null,
            "grid_auto_columns": null,
            "margin": null,
            "display": null,
            "left": null
          }
        },
        "57a86b67169748289c9ef6af587f7c9f": {
          "model_module": "@jupyter-widgets/controls",
          "model_name": "DescriptionStyleModel",
          "model_module_version": "1.5.0",
          "state": {
            "_view_name": "StyleView",
            "_model_name": "DescriptionStyleModel",
            "description_width": "",
            "_view_module": "@jupyter-widgets/base",
            "_model_module_version": "1.5.0",
            "_view_count": null,
            "_view_module_version": "1.2.0",
            "_model_module": "@jupyter-widgets/controls"
          }
        },
        "c9b82fa9e0254f43a61a64d14465f36c": {
          "model_module": "@jupyter-widgets/base",
          "model_name": "LayoutModel",
          "model_module_version": "1.2.0",
          "state": {
            "_view_name": "LayoutView",
            "grid_template_rows": null,
            "right": null,
            "justify_content": null,
            "_view_module": "@jupyter-widgets/base",
            "overflow": null,
            "_model_module_version": "1.2.0",
            "_view_count": null,
            "flex_flow": null,
            "width": null,
            "min_width": null,
            "border": null,
            "align_items": null,
            "bottom": null,
            "_model_module": "@jupyter-widgets/base",
            "top": null,
            "grid_column": null,
            "overflow_y": null,
            "overflow_x": null,
            "grid_auto_flow": null,
            "grid_area": null,
            "grid_template_columns": null,
            "flex": null,
            "_model_name": "LayoutModel",
            "justify_items": null,
            "grid_row": null,
            "max_height": null,
            "align_content": null,
            "visibility": null,
            "align_self": null,
            "height": null,
            "min_height": null,
            "padding": null,
            "grid_auto_rows": null,
            "grid_gap": null,
            "max_width": null,
            "order": null,
            "_view_module_version": "1.2.0",
            "grid_template_areas": null,
            "object_position": null,
            "object_fit": null,
            "grid_auto_columns": null,
            "margin": null,
            "display": null,
            "left": null
          }
        }
      }
    }
  },
  "cells": [
    {
      "cell_type": "markdown",
      "metadata": {
        "id": "3gomz2q4aFvz"
      },
      "source": [
        "# Project AKT3 - Cat Breed Classification\n",
        "\n",
        "Classifies cat breeds using a dataset from kaggle (https://www.kaggle.com/ma7555/cat-breeds-dataset)\n",
        "\n",
        "Experiments with 3 models\n",
        "* custom CNN\n",
        "* Transfer learning using InceptionV3 + additional layers\n",
        "* Transfer learning using InceptionResNetV2 + additional layers\n",
        "\n",
        "The third model works best. It could be even improved with longer training time."
      ]
    },
    {
      "cell_type": "code",
      "metadata": {
        "id": "085I7qqVQcOL"
      },
      "source": [
        "%load_ext autoreload\n",
        "%autoreload 2"
      ],
      "execution_count": null,
      "outputs": []
    },
    {
      "cell_type": "code",
      "metadata": {
        "colab": {
          "base_uri": "https://localhost:8080/"
        },
        "id": "sIjgJs1kW3G1",
        "outputId": "d15dd6c1-e1e0-4e45-b6ad-71fcb47f0db5"
      },
      "source": [
        "from google.colab import drive\n",
        "drive.mount('/content/drive')"
      ],
      "execution_count": 1,
      "outputs": [
        {
          "output_type": "stream",
          "name": "stdout",
          "text": [
            "Mounted at /content/drive\n"
          ]
        }
      ]
    },
    {
      "cell_type": "code",
      "metadata": {
        "id": "eLlUSD0JQi1D"
      },
      "source": [
        "import os, shutil\n",
        "import random\n",
        "import sys\n",
        "\n",
        "import numpy as np\n",
        "import pandas as pd\n",
        "import tensorflow as tf\n",
        "from tensorflow.keras.preprocessing.image import ImageDataGenerator\n",
        "from sklearn.metrics import confusion_matrix\n",
        "import matplotlib.pyplot as plt\n",
        "import glob\n",
        "from PIL import Image, ImageFile\n",
        "\n",
        "from tqdm.auto import tqdm"
      ],
      "execution_count": 2,
      "outputs": []
    },
    {
      "cell_type": "code",
      "metadata": {
        "colab": {
          "base_uri": "https://localhost:8080/"
        },
        "id": "hq5bg4yRQmtW",
        "outputId": "2f276a1a-cbc4-4601-8390-c70c659316d2"
      },
      "source": [
        "base_dir = '/content/drive/My Drive/Colab Notebooks/'\n",
        "sys.path.append(base_dir)\n",
        "tf.get_logger().setLevel('ERROR')\n",
        "\n",
        "device_name = tf.test.gpu_device_name()\n",
        "if device_name != '/device:GPU:0':\n",
        "    raise SystemError('GPU device not found')\n",
        "print('Found GPU at: {}'.format(device_name))"
      ],
      "execution_count": 3,
      "outputs": [
        {
          "output_type": "stream",
          "name": "stdout",
          "text": [
            "Found GPU at: /device:GPU:0\n"
          ]
        }
      ]
    },
    {
      "cell_type": "code",
      "metadata": {
        "id": "4qrZbuBfa1m9"
      },
      "source": [
        "os.environ['KAGGLE_CONFIG_DIR'] = '/content/drive/My Drive/Colab Notebooks/'"
      ],
      "execution_count": 4,
      "outputs": []
    },
    {
      "cell_type": "markdown",
      "metadata": {
        "id": "y-FWFzMNj2sL"
      },
      "source": [
        "# Download Dataset from Kaggle"
      ]
    },
    {
      "cell_type": "code",
      "metadata": {
        "colab": {
          "base_uri": "https://localhost:8080/"
        },
        "id": "9CyK4L9ga2d8",
        "outputId": "2cf15375-2bc5-4ef5-b45a-ca031f78857d"
      },
      "source": [
        "!cd \"$base_dir\"; kaggle datasets download -d ma7555/cat-breeds-dataset"
      ],
      "execution_count": null,
      "outputs": [
        {
          "output_type": "stream",
          "name": "stdout",
          "text": [
            "Downloading cat-breeds-dataset.zip to /content/drive/My Drive/Colab Notebooks\n",
            " 99% 1.92G/1.93G [00:44<00:00, 65.6MB/s]\n",
            "100% 1.93G/1.93G [00:44<00:00, 46.6MB/s]\n"
          ]
        }
      ]
    },
    {
      "cell_type": "code",
      "metadata": {
        "id": "EIenNbxGbDGJ",
        "colab": {
          "base_uri": "https://localhost:8080/"
        },
        "outputId": "5af8ea49-0d80-4ed5-b705-ba11ea7640f6"
      },
      "source": [
        "!pwd; ls -l"
      ],
      "execution_count": null,
      "outputs": [
        {
          "output_type": "stream",
          "name": "stdout",
          "text": [
            "/content\n",
            "total 8\n",
            "drwx------ 5 root root 4096 Nov 29 09:15 drive\n",
            "drwxr-xr-x 1 root root 4096 Nov 18 14:36 sample_data\n"
          ]
        }
      ]
    },
    {
      "cell_type": "markdown",
      "metadata": {
        "id": "0viLy2JWj87y"
      },
      "source": [
        "## Unzip data to local directory in Colab Runtime"
      ]
    },
    {
      "cell_type": "code",
      "metadata": {
        "id": "Y61JtirybFt_"
      },
      "source": [
        "!cd ~; unzip -n '$base_dir/cat-breeds-dataset.zip' >/dev/null"
      ],
      "execution_count": 5,
      "outputs": []
    },
    {
      "cell_type": "code",
      "metadata": {
        "id": "-pXXLG1GbL_3",
        "colab": {
          "base_uri": "https://localhost:8080/"
        },
        "outputId": "05b6f5d5-8860-473d-9ecc-8d604350ced7"
      },
      "source": [
        "!cd \"$base_dir\"; pwd"
      ],
      "execution_count": null,
      "outputs": [
        {
          "output_type": "stream",
          "name": "stdout",
          "text": [
            "/content/drive/My Drive/Colab Notebooks\n"
          ]
        }
      ]
    },
    {
      "cell_type": "code",
      "metadata": {
        "colab": {
          "base_uri": "https://localhost:8080/"
        },
        "id": "c7_xY51W2yje",
        "outputId": "6303ca8e-1c51-4a34-cdb0-bfc9745fd790"
      },
      "source": [
        "!ls /root"
      ],
      "execution_count": null,
      "outputs": [
        {
          "output_type": "stream",
          "name": "stdout",
          "text": [
            "data  images\n"
          ]
        }
      ]
    },
    {
      "cell_type": "markdown",
      "metadata": {
        "id": "wc30jVKfkLjn"
      },
      "source": [
        "# Create test and train folder"
      ]
    },
    {
      "cell_type": "code",
      "metadata": {
        "id": "eKiEZKpebUcA"
      },
      "source": [
        "train_data_dir = os.path.expanduser('~/cat-breeds/train')\n",
        "test_data_dir = os.path.expanduser('~/cat-breeds/test')\n",
        "if not os.path.exists('/root/cat-breeds'):\n",
        "  os.mkdir('/root/cat-breeds')\n",
        "\n",
        "if not os.path.exists(train_data_dir):    \n",
        "  os.mkdir(train_data_dir)\n",
        "\n",
        "if not os.path.exists(test_data_dir):\n",
        "  os.mkdir(test_data_dir)"
      ],
      "execution_count": 6,
      "outputs": []
    },
    {
      "cell_type": "markdown",
      "metadata": {
        "id": "DuFv0IBMnR-0"
      },
      "source": [
        "# Helper functions"
      ]
    },
    {
      "cell_type": "code",
      "metadata": {
        "id": "zPddKFfZVT7r"
      },
      "source": [
        "def evaluate_result(y, pred, classes=None, no_classes=67):\n",
        "    if classes is not None:\n",
        "        no_classes = len(classes)\n",
        "    else:\n",
        "        classes = [str(i) for i in range(no_classes)]\n",
        "\n",
        "    if len(pred.shape) == 2:\n",
        "        predC = np.argmax(pred, axis=1)\n",
        "    elif len(pred.shape) == 1:\n",
        "        predC = pred\n",
        "    else:\n",
        "        raise('pred has wrong format')\n",
        "    cfTable = confusion_matrix(y, predC, labels=range(no_classes))\n",
        "    \n",
        "    print(cfTable)\n",
        "\n",
        "    print('\\n')\n",
        "    \n",
        "    TPRs = pd.Series(0., index=range(no_classes))\n",
        "    \n",
        "    for cl in range(no_classes):\n",
        "        print('Class %s:'%(classes[cl]))\n",
        "        others = list(set(list(range(cfTable.shape[0]))) - set([cl]))\n",
        "        tp = cfTable[cl, cl]\n",
        "        tn = np.sum(cfTable[others, :][:, others])\n",
        "        fp = np.sum(cfTable[others, :][:, [cl]])\n",
        "        fn = np.sum(cfTable[[cl], :][:, others])\n",
        "        tpr = tp / (tp + fn)\n",
        "        tnr = tn / (tn + fp)\n",
        "        prec = tp / (tp + fp)\n",
        "        TPRs[cl] = tpr\n",
        "        print('    Sensitivity (TPR): %7.3f%% (%d of %d)'%(100. * tpr, tp, tp + fn)) \n",
        "        print('    Specificity (TNR): %7.3f%% (%d of %d)'%(100. * tnr, tn, tn + fp)) \n",
        "        print('    Precision:         %7.3f%% (%d of %d)'%(100. * prec, tp, tp + fp))\n",
        "        print('    Neg. pred. value:  %7.3f%% (%d of %d)'%(100. * tn / (tn + fn) , tn, tn + fn))\n",
        "    \n",
        "    print('\\nOverall accuracy:  %7.3f%% (%d of %d)'%(np.sum(np.diagonal(cfTable)) * 100. / len(y),\n",
        "          np.sum(np.diagonal(cfTable)), len(y)))\n",
        "    print('Balanced accuracy: %7.3f%%'%(np.mean(TPRs) * 100.))\n",
        "        \n",
        "    return(cfTable)"
      ],
      "execution_count": 7,
      "outputs": []
    },
    {
      "cell_type": "code",
      "metadata": {
        "id": "RI65DKuTVq0T"
      },
      "source": [
        "def plot_history(history, measure='accuracy', figsize=(8, 6)):\n",
        "    plt.figure(figsize=figsize)\n",
        "    plt.plot(history.history['loss'])\n",
        "    plt.plot(history.history['val_loss'])\n",
        "    plt.title('Training history')\n",
        "    plt.ylabel('loss')\n",
        "    plt.xlabel('epoch')\n",
        "    plt.legend(['train', 'validation'], loc='upper left')\n",
        "    plt.show()\n",
        "    if measure is not None and measure in history.history.keys() and \\\n",
        "        'val_' + measure in history.history.keys():\n",
        "        plt.figure(figsize=figsize)\n",
        "        plt.plot(history.history[measure])\n",
        "        plt.plot(history.history['val_' + measure])\n",
        "        plt.title('Training history')\n",
        "        plt.ylabel(measure)\n",
        "        plt.xlabel('epoch')\n",
        "        plt.legend(['train', 'validation'], loc='upper left')\n",
        "        plt.show()"
      ],
      "execution_count": 8,
      "outputs": []
    },
    {
      "cell_type": "markdown",
      "metadata": {
        "id": "Mo_gHhW6oSHe"
      },
      "source": [
        "# Preprocessing"
      ]
    },
    {
      "cell_type": "code",
      "metadata": {
        "id": "zOGJx6qE47XK"
      },
      "source": [
        "d = '/root/data/'\n",
        "src_dir = '/root/images/'\n",
        "dest_dir = d + 'processed/'\n",
        "label_df = pd.read_csv(d + 'cats.csv', index_col='id')"
      ],
      "execution_count": 9,
      "outputs": []
    },
    {
      "cell_type": "markdown",
      "metadata": {
        "id": "PomFHnlSoYCr"
      },
      "source": [
        "## Extract Classes"
      ]
    },
    {
      "cell_type": "code",
      "metadata": {
        "colab": {
          "base_uri": "https://localhost:8080/"
        },
        "id": "sQWzTDaS4167",
        "outputId": "10c886aa-b4ec-4eb6-d6a6-12acb1bec57c"
      },
      "source": [
        "all_classes = label_df['breed'].unique()\n",
        "all_classes.sort()\n",
        "print(all_classes)"
      ],
      "execution_count": 10,
      "outputs": [
        {
          "output_type": "stream",
          "name": "stdout",
          "text": [
            "['Abyssinian' 'American Bobtail' 'American Curl' 'American Shorthair'\n",
            " 'American Wirehair' 'Applehead Siamese' 'Balinese' 'Bengal' 'Birman'\n",
            " 'Bombay' 'British Shorthair' 'Burmese' 'Burmilla' 'Calico'\n",
            " 'Canadian Hairless' 'Chartreux' 'Chausie' 'Chinchilla' 'Cornish Rex'\n",
            " 'Cymric' 'Devon Rex' 'Dilute Calico' 'Dilute Tortoiseshell'\n",
            " 'Domestic Long Hair' 'Domestic Medium Hair' 'Domestic Short Hair'\n",
            " 'Egyptian Mau' 'Exotic Shorthair' 'Extra-Toes Cat - Hemingway Polydactyl'\n",
            " 'Havana' 'Himalayan' 'Japanese Bobtail' 'Javanese' 'Korat' 'LaPerm'\n",
            " 'Maine Coon' 'Manx' 'Munchkin' 'Nebelung' 'Norwegian Forest Cat' 'Ocicat'\n",
            " 'Oriental Long Hair' 'Oriental Short Hair' 'Oriental Tabby' 'Persian'\n",
            " 'Pixiebob' 'Ragamuffin' 'Ragdoll' 'Russian Blue' 'Scottish Fold'\n",
            " 'Selkirk Rex' 'Siamese' 'Siberian' 'Silver' 'Singapura' 'Snowshoe'\n",
            " 'Somali' 'Sphynx - Hairless Cat' 'Tabby' 'Tiger' 'Tonkinese' 'Torbie'\n",
            " 'Tortoiseshell' 'Turkish Angora' 'Turkish Van' 'Tuxedo' 'York Chocolate']\n"
          ]
        }
      ]
    },
    {
      "cell_type": "markdown",
      "metadata": {
        "id": "ViwkcDvYkfiX"
      },
      "source": [
        "## Create test, validation and training set"
      ]
    },
    {
      "cell_type": "code",
      "metadata": {
        "id": "KGko6_vG9qyx"
      },
      "source": [
        "test_split = 0.2\n",
        "validation_split = 0.2\n",
        "train_split = 1 - (test_split + validation_split)\n",
        "\n",
        "random.seed(4232)\n",
        "\n",
        "all_samples = list(index for index, value in label_df['Unnamed: 0'].items())\n",
        "train_samples = random.sample(all_samples, k=round(len(all_samples) * train_split))\n",
        "other_samples = list(set(all_samples).difference(set(train_samples)))\n",
        "aux_split = validation_split / (validation_split + test_split)\n",
        "validation_samples = random.sample(other_samples, k=round(len(other_samples) * aux_split))\n",
        "test_samples = list(set(other_samples).difference(set(validation_samples)))\n",
        "\n",
        "train_samples.sort()\n",
        "validation_samples.sort()\n",
        "test_samples.sort()"
      ],
      "execution_count": 11,
      "outputs": []
    },
    {
      "cell_type": "code",
      "metadata": {
        "id": "Lki5Uyey9j13"
      },
      "source": [
        "if not os.path.exists(dest_dir):\n",
        "    os.mkdir(dest_dir)\n",
        "\n",
        "train_data_dir = dest_dir + 'train/'\n",
        "validation_data_dir = dest_dir + 'validation/'\n",
        "test_data_dir = dest_dir + 'test/'\n",
        "\n",
        "if not os.path.exists(train_data_dir):\n",
        "    os.mkdir(train_data_dir)\n",
        "if not os.path.exists(validation_data_dir):\n",
        "    os.mkdir(validation_data_dir)\n",
        "if not os.path.exists(test_data_dir):\n",
        "    os.mkdir(test_data_dir)\n",
        "    \n",
        "for cl in all_classes:\n",
        "    if not os.path.exists(train_data_dir + cl):\n",
        "        os.mkdir(train_data_dir + cl)\n",
        "    if not os.path.exists(validation_data_dir + cl):\n",
        "        os.mkdir(validation_data_dir + cl)\n",
        "    if not os.path.exists(test_data_dir + cl):\n",
        "        os.mkdir(test_data_dir + cl)"
      ],
      "execution_count": 12,
      "outputs": []
    },
    {
      "cell_type": "code",
      "metadata": {
        "colab": {
          "base_uri": "https://localhost:8080/",
          "height": 113,
          "referenced_widgets": [
            "11bde898cbfd4e5c837de31b5266007a",
            "f67c03f1a63f477eb688057caf01b4f3",
            "b24096b9b538484cab83013237d46fda",
            "e65b8d57cf4d4d80ba32ac7e958c3c42",
            "f48320b9b79d4a08af610b6589475044",
            "4a196c9cde5e4adea9477bc0b825f81d",
            "92a10f6b75d648d7ad4d90ddb5bfe0b0",
            "92aba228469a4d348a7435fd78a751bc",
            "4d90c5312ef941fb84bfc7c8a0c2ed0a",
            "c2e0b9f753c940dd96d3d60475c52dde",
            "f863886f22294f7bb02b9dc2c4189a59",
            "e537b35105d44b71bd53f2faf72d9e4e",
            "553d117ca4b546aa9aacad10ca74beef",
            "02aedd4dda754aba8e45cc98000c2cfe",
            "845b6f6f55854c789d8a7b4fec400e9b",
            "f9375e2f264643c8aa4510ed92b21f6d",
            "3af1ad47d77e400782b95785a5c516c0",
            "6e930b3493ca4dbb9554265aa2d38ef5",
            "26760eb5db284aa385f5aa7d7a851490",
            "f652f160e4e04c2ba0b6258a3f6b3104",
            "8c94d1d11ae847bf95c84545c16c1cc0",
            "561e55465bdd4a1ea601e965b3eb2af2",
            "857881efa088480a953ed71fdc031d4a",
            "6ed75428302848a0b0e71dc64f58ffaf",
            "593b910e02ce404bb93657c054c8e2d5",
            "53764ababd184da6b4e5f94ccd6f8112",
            "f70adb34e1d04c17b04a396bbaa575df",
            "850c5119f7004736ac701ac814cb4391",
            "662af2bfc18346bdb1ed6d9bd71079d7",
            "887441bc10224b1eb330aa76f5c2fe19",
            "b6527717b7724773969dc47e7e93137f",
            "57a86b67169748289c9ef6af587f7c9f",
            "c9b82fa9e0254f43a61a64d14465f36c"
          ]
        },
        "id": "pF4L_SFB-dF4",
        "outputId": "a35c2ef9-5a49-4dad-dd40-1c8c65b91f09"
      },
      "source": [
        "def get_breed(label_df, sample):\n",
        "  breed = label_df.loc[sample, 'breed']\n",
        "  if isinstance(breed, pd.Series): # tuple\n",
        "    return list(breed)[1]\n",
        "  else:                            # string\n",
        "    return breed\n",
        "\n",
        "for sample in tqdm(train_samples):\n",
        "  breed = get_breed(label_df, sample)\n",
        "  \n",
        "  for file in glob.glob(src_dir + breed + '/' + str(sample) + '*.jpg'):\n",
        "    shutil.copy(file, dest_dir + 'train/' + breed)\n",
        "\n",
        "for sample in tqdm(validation_samples):\n",
        "  breed = get_breed(label_df, sample)\n",
        "\n",
        "  for file in glob.glob(src_dir + breed + '/' + str(sample) + '*.jpg'):\n",
        "    shutil.copy(file, dest_dir + 'validation/' + breed)\n",
        "\n",
        "for sample in tqdm(test_samples):\n",
        "  breed = get_breed(label_df, sample)\n",
        "\n",
        "  for file in glob.glob(src_dir + breed + '/' + str(sample) + '*.jpg'):\n",
        "    shutil.copy(file, dest_dir + 'test/' + breed)"
      ],
      "execution_count": 13,
      "outputs": [
        {
          "output_type": "display_data",
          "data": {
            "application/vnd.jupyter.widget-view+json": {
              "model_id": "11bde898cbfd4e5c837de31b5266007a",
              "version_minor": 0,
              "version_major": 2
            },
            "text/plain": [
              "  0%|          | 0/40287 [00:00<?, ?it/s]"
            ]
          },
          "metadata": {}
        },
        {
          "output_type": "display_data",
          "data": {
            "application/vnd.jupyter.widget-view+json": {
              "model_id": "e537b35105d44b71bd53f2faf72d9e4e",
              "version_minor": 0,
              "version_major": 2
            },
            "text/plain": [
              "  0%|          | 0/13410 [00:00<?, ?it/s]"
            ]
          },
          "metadata": {}
        },
        {
          "output_type": "display_data",
          "data": {
            "application/vnd.jupyter.widget-view+json": {
              "model_id": "857881efa088480a953ed71fdc031d4a",
              "version_minor": 0,
              "version_major": 2
            },
            "text/plain": [
              "  0%|          | 0/13410 [00:00<?, ?it/s]"
            ]
          },
          "metadata": {}
        }
      ]
    },
    {
      "cell_type": "markdown",
      "metadata": {
        "id": "6w_C8ZDHQ4oc"
      },
      "source": [
        "# Configure Generators for first and second model"
      ]
    },
    {
      "cell_type": "code",
      "metadata": {
        "id": "9HtiMQu3Qrqw",
        "colab": {
          "base_uri": "https://localhost:8080/"
        },
        "outputId": "188dc2ec-3668-49d1-f905-4b6d75ad875b"
      },
      "source": [
        "batch_size = 64\n",
        "img_size = (128, 128)\n",
        "\n",
        "train_datagen = ImageDataGenerator(width_shift_range=0.2,\n",
        "    height_shift_range=0.2,\n",
        "    zoom_range=0.2,\n",
        "    rotation_range=30,\n",
        "    vertical_flip=False,\n",
        "    horizontal_flip=True)\n",
        "\n",
        "train_generator = train_datagen.flow_from_directory(train_data_dir, \n",
        "                                                    target_size=img_size, \n",
        "                                                    batch_size=batch_size,\n",
        "                                                    class_mode='categorical')\n",
        "\n",
        "val_test_datagen = ImageDataGenerator(rescale=(1. / 255))\n",
        "\n",
        "validation_generator = val_test_datagen.flow_from_directory(validation_data_dir, \n",
        "                                                            target_size=img_size, \n",
        "                                                            batch_size=batch_size,\n",
        "                                                            class_mode='categorical')\n",
        "\n",
        "test_generator = val_test_datagen.flow_from_directory(test_data_dir, \n",
        "                                                      target_size=img_size, \n",
        "                                                      batch_size=1,\n",
        "                                                      shuffle=False,\n",
        "                                                      class_mode='categorical')"
      ],
      "execution_count": null,
      "outputs": [
        {
          "output_type": "stream",
          "name": "stdout",
          "text": [
            "Found 40287 images belonging to 67 classes.\n",
            "Found 13413 images belonging to 67 classes.\n",
            "Found 13414 images belonging to 67 classes.\n"
          ]
        }
      ]
    },
    {
      "cell_type": "markdown",
      "metadata": {
        "id": "K94eV_09Rt_y"
      },
      "source": [
        "# Create Model"
      ]
    },
    {
      "cell_type": "code",
      "metadata": {
        "id": "OP4KyfCNRwzc",
        "colab": {
          "base_uri": "https://localhost:8080/"
        },
        "outputId": "1d3c465a-c39e-45e0-9c7f-3e3f59686a5d"
      },
      "source": [
        "model = tf.keras.models.Sequential([\n",
        " tf.keras.layers.Conv2D(32, (3, 3), input_shape=(img_size[0], img_size[1], 3),\n",
        " padding='same', activation='relu', use_bias=False),\n",
        " tf.keras.layers.BatchNormalization(),\n",
        " tf.keras.layers.Conv2D(32, (3, 3),\n",
        " padding='same', activation='relu', use_bias=False),\n",
        " tf.keras.layers.BatchNormalization(),\n",
        " tf.keras.layers.MaxPooling2D((2, 2)),\n",
        " tf.keras.layers.Dropout(0.2),\n",
        " tf.keras.layers.Conv2D(64, (3, 3),\n",
        " padding='same', activation='relu', use_bias=False),\n",
        " tf.keras.layers.BatchNormalization(),\n",
        " tf.keras.layers.Conv2D(64, (3, 3),\n",
        " padding='same', activation='relu', use_bias=False),\n",
        " tf.keras.layers.BatchNormalization(),\n",
        " tf.keras.layers.MaxPooling2D((2, 2)),\n",
        " tf.keras.layers.Dropout(0.2),\n",
        " tf.keras.layers.Conv2D(128, (3, 3),\n",
        " padding='same', activation='relu', use_bias=False),\n",
        " tf.keras.layers.BatchNormalization(),\n",
        " tf.keras.layers.Conv2D(128, (3, 3),\n",
        " padding='same', activation='relu', use_bias=False),\n",
        " tf.keras.layers.BatchNormalization(),\n",
        " tf.keras.layers.MaxPooling2D((2, 2)),\n",
        " tf.keras.layers.Dropout(0.2),\n",
        " tf.keras.layers.Flatten(),\n",
        " tf.keras.layers.Dropout(0.2),\n",
        " tf.keras.layers.Dense(128, activation='relu', use_bias=False),\n",
        " tf.keras.layers.BatchNormalization(),\n",
        " tf.keras.layers.Dropout(0.2),\n",
        " tf.keras.layers.Dense(len(all_classes), activation='softmax')\n",
        "])\n",
        "model.compile(optimizer='adam', loss='categorical_crossentropy', metrics=['accuracy'])\n",
        "model.summary()"
      ],
      "execution_count": null,
      "outputs": [
        {
          "output_type": "stream",
          "name": "stdout",
          "text": [
            "Model: \"sequential\"\n",
            "_________________________________________________________________\n",
            " Layer (type)                Output Shape              Param #   \n",
            "=================================================================\n",
            " conv2d (Conv2D)             (None, 128, 128, 32)      864       \n",
            "                                                                 \n",
            " batch_normalization (BatchN  (None, 128, 128, 32)     128       \n",
            " ormalization)                                                   \n",
            "                                                                 \n",
            " conv2d_1 (Conv2D)           (None, 128, 128, 32)      9216      \n",
            "                                                                 \n",
            " batch_normalization_1 (Batc  (None, 128, 128, 32)     128       \n",
            " hNormalization)                                                 \n",
            "                                                                 \n",
            " max_pooling2d (MaxPooling2D  (None, 64, 64, 32)       0         \n",
            " )                                                               \n",
            "                                                                 \n",
            " dropout (Dropout)           (None, 64, 64, 32)        0         \n",
            "                                                                 \n",
            " conv2d_2 (Conv2D)           (None, 64, 64, 64)        18432     \n",
            "                                                                 \n",
            " batch_normalization_2 (Batc  (None, 64, 64, 64)       256       \n",
            " hNormalization)                                                 \n",
            "                                                                 \n",
            " conv2d_3 (Conv2D)           (None, 64, 64, 64)        36864     \n",
            "                                                                 \n",
            " batch_normalization_3 (Batc  (None, 64, 64, 64)       256       \n",
            " hNormalization)                                                 \n",
            "                                                                 \n",
            " max_pooling2d_1 (MaxPooling  (None, 32, 32, 64)       0         \n",
            " 2D)                                                             \n",
            "                                                                 \n",
            " dropout_1 (Dropout)         (None, 32, 32, 64)        0         \n",
            "                                                                 \n",
            " conv2d_4 (Conv2D)           (None, 32, 32, 128)       73728     \n",
            "                                                                 \n",
            " batch_normalization_4 (Batc  (None, 32, 32, 128)      512       \n",
            " hNormalization)                                                 \n",
            "                                                                 \n",
            " conv2d_5 (Conv2D)           (None, 32, 32, 128)       147456    \n",
            "                                                                 \n",
            " batch_normalization_5 (Batc  (None, 32, 32, 128)      512       \n",
            " hNormalization)                                                 \n",
            "                                                                 \n",
            " max_pooling2d_2 (MaxPooling  (None, 16, 16, 128)      0         \n",
            " 2D)                                                             \n",
            "                                                                 \n",
            " dropout_2 (Dropout)         (None, 16, 16, 128)       0         \n",
            "                                                                 \n",
            " flatten (Flatten)           (None, 32768)             0         \n",
            "                                                                 \n",
            " dropout_3 (Dropout)         (None, 32768)             0         \n",
            "                                                                 \n",
            " dense (Dense)               (None, 128)               4194304   \n",
            "                                                                 \n",
            " batch_normalization_6 (Batc  (None, 128)              512       \n",
            " hNormalization)                                                 \n",
            "                                                                 \n",
            " dropout_4 (Dropout)         (None, 128)               0         \n",
            "                                                                 \n",
            " dense_1 (Dense)             (None, 67)                8643      \n",
            "                                                                 \n",
            "=================================================================\n",
            "Total params: 4,491,811\n",
            "Trainable params: 4,490,659\n",
            "Non-trainable params: 1,152\n",
            "_________________________________________________________________\n"
          ]
        }
      ]
    },
    {
      "cell_type": "markdown",
      "metadata": {
        "id": "_-aw-q8BTPhN"
      },
      "source": [
        "# Train Model"
      ]
    },
    {
      "cell_type": "code",
      "metadata": {
        "id": "aozkihgETOgu",
        "colab": {
          "base_uri": "https://localhost:8080/",
          "height": 379
        },
        "outputId": "2cfc1243-147e-43cc-8fca-60963e4e2126"
      },
      "source": [
        "ImageFile.LOAD_TRUNCATED_IMAGES = True\n",
        "\n",
        "# trained 15 Epochs, after that Colab startet training again\n",
        "filepath = '/content/drive/My Drive/Colab Notebooks/models/project_{epoch:02d}-{val_accuracy:.4f}.hdf5'\n",
        "callbacks_list = [tf.keras.callbacks.ModelCheckpoint(filepath, monitor='val_accuracy', verbose=1, save_best_only=True, mode='max')]\n",
        "history = model.fit(train_generator,\n",
        "                    steps_per_epoch=(len(train_generator.filenames) // batch_size), \n",
        "                    epochs=15,\n",
        "                    validation_data=validation_generator, \n",
        "                    validation_steps=(len(validation_generator.filenames) // batch_size),\n",
        "                    callbacks=callbacks_list)"
      ],
      "execution_count": null,
      "outputs": [
        {
          "output_type": "stream",
          "name": "stdout",
          "text": [
            "Epoch 1/15\n",
            " 49/629 [=>............................] - ETA: 4:30 - loss: 2.5128 - accuracy: 0.3061"
          ]
        },
        {
          "output_type": "error",
          "ename": "KeyboardInterrupt",
          "evalue": "ignored",
          "traceback": [
            "\u001b[0;31m---------------------------------------------------------------------------\u001b[0m",
            "\u001b[0;31mKeyboardInterrupt\u001b[0m                         Traceback (most recent call last)",
            "\u001b[0;32m<ipython-input-19-4b6339d86223>\u001b[0m in \u001b[0;36m<module>\u001b[0;34m()\u001b[0m\n\u001b[1;32m      8\u001b[0m                     \u001b[0mvalidation_data\u001b[0m\u001b[0;34m=\u001b[0m\u001b[0mvalidation_generator\u001b[0m\u001b[0;34m,\u001b[0m\u001b[0;34m\u001b[0m\u001b[0;34m\u001b[0m\u001b[0m\n\u001b[1;32m      9\u001b[0m                     \u001b[0mvalidation_steps\u001b[0m\u001b[0;34m=\u001b[0m\u001b[0;34m(\u001b[0m\u001b[0mlen\u001b[0m\u001b[0;34m(\u001b[0m\u001b[0mvalidation_generator\u001b[0m\u001b[0;34m.\u001b[0m\u001b[0mfilenames\u001b[0m\u001b[0;34m)\u001b[0m \u001b[0;34m//\u001b[0m \u001b[0mbatch_size\u001b[0m\u001b[0;34m)\u001b[0m\u001b[0;34m,\u001b[0m\u001b[0;34m\u001b[0m\u001b[0;34m\u001b[0m\u001b[0m\n\u001b[0;32m---> 10\u001b[0;31m                     callbacks=callbacks_list)\n\u001b[0m",
            "\u001b[0;32m/usr/local/lib/python3.7/dist-packages/keras/utils/traceback_utils.py\u001b[0m in \u001b[0;36merror_handler\u001b[0;34m(*args, **kwargs)\u001b[0m\n\u001b[1;32m     62\u001b[0m     \u001b[0mfiltered_tb\u001b[0m \u001b[0;34m=\u001b[0m \u001b[0;32mNone\u001b[0m\u001b[0;34m\u001b[0m\u001b[0;34m\u001b[0m\u001b[0m\n\u001b[1;32m     63\u001b[0m     \u001b[0;32mtry\u001b[0m\u001b[0;34m:\u001b[0m\u001b[0;34m\u001b[0m\u001b[0;34m\u001b[0m\u001b[0m\n\u001b[0;32m---> 64\u001b[0;31m       \u001b[0;32mreturn\u001b[0m \u001b[0mfn\u001b[0m\u001b[0;34m(\u001b[0m\u001b[0;34m*\u001b[0m\u001b[0margs\u001b[0m\u001b[0;34m,\u001b[0m \u001b[0;34m**\u001b[0m\u001b[0mkwargs\u001b[0m\u001b[0;34m)\u001b[0m\u001b[0;34m\u001b[0m\u001b[0;34m\u001b[0m\u001b[0m\n\u001b[0m\u001b[1;32m     65\u001b[0m     \u001b[0;32mexcept\u001b[0m \u001b[0mException\u001b[0m \u001b[0;32mas\u001b[0m \u001b[0me\u001b[0m\u001b[0;34m:\u001b[0m  \u001b[0;31m# pylint: disable=broad-except\u001b[0m\u001b[0;34m\u001b[0m\u001b[0;34m\u001b[0m\u001b[0m\n\u001b[1;32m     66\u001b[0m       \u001b[0mfiltered_tb\u001b[0m \u001b[0;34m=\u001b[0m \u001b[0m_process_traceback_frames\u001b[0m\u001b[0;34m(\u001b[0m\u001b[0me\u001b[0m\u001b[0;34m.\u001b[0m\u001b[0m__traceback__\u001b[0m\u001b[0;34m)\u001b[0m\u001b[0;34m\u001b[0m\u001b[0;34m\u001b[0m\u001b[0m\n",
            "\u001b[0;32m/usr/local/lib/python3.7/dist-packages/keras/engine/training.py\u001b[0m in \u001b[0;36mfit\u001b[0;34m(self, x, y, batch_size, epochs, verbose, callbacks, validation_split, validation_data, shuffle, class_weight, sample_weight, initial_epoch, steps_per_epoch, validation_steps, validation_batch_size, validation_freq, max_queue_size, workers, use_multiprocessing)\u001b[0m\n\u001b[1;32m   1214\u001b[0m                 _r=1):\n\u001b[1;32m   1215\u001b[0m               \u001b[0mcallbacks\u001b[0m\u001b[0;34m.\u001b[0m\u001b[0mon_train_batch_begin\u001b[0m\u001b[0;34m(\u001b[0m\u001b[0mstep\u001b[0m\u001b[0;34m)\u001b[0m\u001b[0;34m\u001b[0m\u001b[0;34m\u001b[0m\u001b[0m\n\u001b[0;32m-> 1216\u001b[0;31m               \u001b[0mtmp_logs\u001b[0m \u001b[0;34m=\u001b[0m \u001b[0mself\u001b[0m\u001b[0;34m.\u001b[0m\u001b[0mtrain_function\u001b[0m\u001b[0;34m(\u001b[0m\u001b[0miterator\u001b[0m\u001b[0;34m)\u001b[0m\u001b[0;34m\u001b[0m\u001b[0;34m\u001b[0m\u001b[0m\n\u001b[0m\u001b[1;32m   1217\u001b[0m               \u001b[0;32mif\u001b[0m \u001b[0mdata_handler\u001b[0m\u001b[0;34m.\u001b[0m\u001b[0mshould_sync\u001b[0m\u001b[0;34m:\u001b[0m\u001b[0;34m\u001b[0m\u001b[0;34m\u001b[0m\u001b[0m\n\u001b[1;32m   1218\u001b[0m                 \u001b[0mcontext\u001b[0m\u001b[0;34m.\u001b[0m\u001b[0masync_wait\u001b[0m\u001b[0;34m(\u001b[0m\u001b[0;34m)\u001b[0m\u001b[0;34m\u001b[0m\u001b[0;34m\u001b[0m\u001b[0m\n",
            "\u001b[0;32m/usr/local/lib/python3.7/dist-packages/tensorflow/python/util/traceback_utils.py\u001b[0m in \u001b[0;36merror_handler\u001b[0;34m(*args, **kwargs)\u001b[0m\n\u001b[1;32m    148\u001b[0m     \u001b[0mfiltered_tb\u001b[0m \u001b[0;34m=\u001b[0m \u001b[0;32mNone\u001b[0m\u001b[0;34m\u001b[0m\u001b[0;34m\u001b[0m\u001b[0m\n\u001b[1;32m    149\u001b[0m     \u001b[0;32mtry\u001b[0m\u001b[0;34m:\u001b[0m\u001b[0;34m\u001b[0m\u001b[0;34m\u001b[0m\u001b[0m\n\u001b[0;32m--> 150\u001b[0;31m       \u001b[0;32mreturn\u001b[0m \u001b[0mfn\u001b[0m\u001b[0;34m(\u001b[0m\u001b[0;34m*\u001b[0m\u001b[0margs\u001b[0m\u001b[0;34m,\u001b[0m \u001b[0;34m**\u001b[0m\u001b[0mkwargs\u001b[0m\u001b[0;34m)\u001b[0m\u001b[0;34m\u001b[0m\u001b[0;34m\u001b[0m\u001b[0m\n\u001b[0m\u001b[1;32m    151\u001b[0m     \u001b[0;32mexcept\u001b[0m \u001b[0mException\u001b[0m \u001b[0;32mas\u001b[0m \u001b[0me\u001b[0m\u001b[0;34m:\u001b[0m\u001b[0;34m\u001b[0m\u001b[0;34m\u001b[0m\u001b[0m\n\u001b[1;32m    152\u001b[0m       \u001b[0mfiltered_tb\u001b[0m \u001b[0;34m=\u001b[0m \u001b[0m_process_traceback_frames\u001b[0m\u001b[0;34m(\u001b[0m\u001b[0me\u001b[0m\u001b[0;34m.\u001b[0m\u001b[0m__traceback__\u001b[0m\u001b[0;34m)\u001b[0m\u001b[0;34m\u001b[0m\u001b[0;34m\u001b[0m\u001b[0m\n",
            "\u001b[0;32m/usr/local/lib/python3.7/dist-packages/tensorflow/python/eager/def_function.py\u001b[0m in \u001b[0;36m__call__\u001b[0;34m(self, *args, **kwds)\u001b[0m\n\u001b[1;32m    908\u001b[0m \u001b[0;34m\u001b[0m\u001b[0m\n\u001b[1;32m    909\u001b[0m       \u001b[0;32mwith\u001b[0m \u001b[0mOptionalXlaContext\u001b[0m\u001b[0;34m(\u001b[0m\u001b[0mself\u001b[0m\u001b[0;34m.\u001b[0m\u001b[0m_jit_compile\u001b[0m\u001b[0;34m)\u001b[0m\u001b[0;34m:\u001b[0m\u001b[0;34m\u001b[0m\u001b[0;34m\u001b[0m\u001b[0m\n\u001b[0;32m--> 910\u001b[0;31m         \u001b[0mresult\u001b[0m \u001b[0;34m=\u001b[0m \u001b[0mself\u001b[0m\u001b[0;34m.\u001b[0m\u001b[0m_call\u001b[0m\u001b[0;34m(\u001b[0m\u001b[0;34m*\u001b[0m\u001b[0margs\u001b[0m\u001b[0;34m,\u001b[0m \u001b[0;34m**\u001b[0m\u001b[0mkwds\u001b[0m\u001b[0;34m)\u001b[0m\u001b[0;34m\u001b[0m\u001b[0;34m\u001b[0m\u001b[0m\n\u001b[0m\u001b[1;32m    911\u001b[0m \u001b[0;34m\u001b[0m\u001b[0m\n\u001b[1;32m    912\u001b[0m       \u001b[0mnew_tracing_count\u001b[0m \u001b[0;34m=\u001b[0m \u001b[0mself\u001b[0m\u001b[0;34m.\u001b[0m\u001b[0mexperimental_get_tracing_count\u001b[0m\u001b[0;34m(\u001b[0m\u001b[0;34m)\u001b[0m\u001b[0;34m\u001b[0m\u001b[0;34m\u001b[0m\u001b[0m\n",
            "\u001b[0;32m/usr/local/lib/python3.7/dist-packages/tensorflow/python/eager/def_function.py\u001b[0m in \u001b[0;36m_call\u001b[0;34m(self, *args, **kwds)\u001b[0m\n\u001b[1;32m    940\u001b[0m       \u001b[0;31m# In this case we have created variables on the first call, so we run the\u001b[0m\u001b[0;34m\u001b[0m\u001b[0;34m\u001b[0m\u001b[0;34m\u001b[0m\u001b[0m\n\u001b[1;32m    941\u001b[0m       \u001b[0;31m# defunned version which is guaranteed to never create variables.\u001b[0m\u001b[0;34m\u001b[0m\u001b[0;34m\u001b[0m\u001b[0;34m\u001b[0m\u001b[0m\n\u001b[0;32m--> 942\u001b[0;31m       \u001b[0;32mreturn\u001b[0m \u001b[0mself\u001b[0m\u001b[0;34m.\u001b[0m\u001b[0m_stateless_fn\u001b[0m\u001b[0;34m(\u001b[0m\u001b[0;34m*\u001b[0m\u001b[0margs\u001b[0m\u001b[0;34m,\u001b[0m \u001b[0;34m**\u001b[0m\u001b[0mkwds\u001b[0m\u001b[0;34m)\u001b[0m  \u001b[0;31m# pylint: disable=not-callable\u001b[0m\u001b[0;34m\u001b[0m\u001b[0;34m\u001b[0m\u001b[0m\n\u001b[0m\u001b[1;32m    943\u001b[0m     \u001b[0;32melif\u001b[0m \u001b[0mself\u001b[0m\u001b[0;34m.\u001b[0m\u001b[0m_stateful_fn\u001b[0m \u001b[0;32mis\u001b[0m \u001b[0;32mnot\u001b[0m \u001b[0;32mNone\u001b[0m\u001b[0;34m:\u001b[0m\u001b[0;34m\u001b[0m\u001b[0;34m\u001b[0m\u001b[0m\n\u001b[1;32m    944\u001b[0m       \u001b[0;31m# Release the lock early so that multiple threads can perform the call\u001b[0m\u001b[0;34m\u001b[0m\u001b[0;34m\u001b[0m\u001b[0;34m\u001b[0m\u001b[0m\n",
            "\u001b[0;32m/usr/local/lib/python3.7/dist-packages/tensorflow/python/eager/function.py\u001b[0m in \u001b[0;36m__call__\u001b[0;34m(self, *args, **kwargs)\u001b[0m\n\u001b[1;32m   3129\u001b[0m        filtered_flat_args) = self._maybe_define_function(args, kwargs)\n\u001b[1;32m   3130\u001b[0m     return graph_function._call_flat(\n\u001b[0;32m-> 3131\u001b[0;31m         filtered_flat_args, captured_inputs=graph_function.captured_inputs)  # pylint: disable=protected-access\n\u001b[0m\u001b[1;32m   3132\u001b[0m \u001b[0;34m\u001b[0m\u001b[0m\n\u001b[1;32m   3133\u001b[0m   \u001b[0;34m@\u001b[0m\u001b[0mproperty\u001b[0m\u001b[0;34m\u001b[0m\u001b[0;34m\u001b[0m\u001b[0m\n",
            "\u001b[0;32m/usr/local/lib/python3.7/dist-packages/tensorflow/python/eager/function.py\u001b[0m in \u001b[0;36m_call_flat\u001b[0;34m(self, args, captured_inputs, cancellation_manager)\u001b[0m\n\u001b[1;32m   1958\u001b[0m       \u001b[0;31m# No tape is watching; skip to running the function.\u001b[0m\u001b[0;34m\u001b[0m\u001b[0;34m\u001b[0m\u001b[0;34m\u001b[0m\u001b[0m\n\u001b[1;32m   1959\u001b[0m       return self._build_call_outputs(self._inference_function.call(\n\u001b[0;32m-> 1960\u001b[0;31m           ctx, args, cancellation_manager=cancellation_manager))\n\u001b[0m\u001b[1;32m   1961\u001b[0m     forward_backward = self._select_forward_and_backward_functions(\n\u001b[1;32m   1962\u001b[0m         \u001b[0margs\u001b[0m\u001b[0;34m,\u001b[0m\u001b[0;34m\u001b[0m\u001b[0;34m\u001b[0m\u001b[0m\n",
            "\u001b[0;32m/usr/local/lib/python3.7/dist-packages/tensorflow/python/eager/function.py\u001b[0m in \u001b[0;36mcall\u001b[0;34m(self, ctx, args, cancellation_manager)\u001b[0m\n\u001b[1;32m    601\u001b[0m               \u001b[0minputs\u001b[0m\u001b[0;34m=\u001b[0m\u001b[0margs\u001b[0m\u001b[0;34m,\u001b[0m\u001b[0;34m\u001b[0m\u001b[0;34m\u001b[0m\u001b[0m\n\u001b[1;32m    602\u001b[0m               \u001b[0mattrs\u001b[0m\u001b[0;34m=\u001b[0m\u001b[0mattrs\u001b[0m\u001b[0;34m,\u001b[0m\u001b[0;34m\u001b[0m\u001b[0;34m\u001b[0m\u001b[0m\n\u001b[0;32m--> 603\u001b[0;31m               ctx=ctx)\n\u001b[0m\u001b[1;32m    604\u001b[0m         \u001b[0;32melse\u001b[0m\u001b[0;34m:\u001b[0m\u001b[0;34m\u001b[0m\u001b[0;34m\u001b[0m\u001b[0m\n\u001b[1;32m    605\u001b[0m           outputs = execute.execute_with_cancellation(\n",
            "\u001b[0;32m/usr/local/lib/python3.7/dist-packages/tensorflow/python/eager/execute.py\u001b[0m in \u001b[0;36mquick_execute\u001b[0;34m(op_name, num_outputs, inputs, attrs, ctx, name)\u001b[0m\n\u001b[1;32m     57\u001b[0m     \u001b[0mctx\u001b[0m\u001b[0;34m.\u001b[0m\u001b[0mensure_initialized\u001b[0m\u001b[0;34m(\u001b[0m\u001b[0;34m)\u001b[0m\u001b[0;34m\u001b[0m\u001b[0;34m\u001b[0m\u001b[0m\n\u001b[1;32m     58\u001b[0m     tensors = pywrap_tfe.TFE_Py_Execute(ctx._handle, device_name, op_name,\n\u001b[0;32m---> 59\u001b[0;31m                                         inputs, attrs, num_outputs)\n\u001b[0m\u001b[1;32m     60\u001b[0m   \u001b[0;32mexcept\u001b[0m \u001b[0mcore\u001b[0m\u001b[0;34m.\u001b[0m\u001b[0m_NotOkStatusException\u001b[0m \u001b[0;32mas\u001b[0m \u001b[0me\u001b[0m\u001b[0;34m:\u001b[0m\u001b[0;34m\u001b[0m\u001b[0;34m\u001b[0m\u001b[0m\n\u001b[1;32m     61\u001b[0m     \u001b[0;32mif\u001b[0m \u001b[0mname\u001b[0m \u001b[0;32mis\u001b[0m \u001b[0;32mnot\u001b[0m \u001b[0;32mNone\u001b[0m\u001b[0;34m:\u001b[0m\u001b[0;34m\u001b[0m\u001b[0;34m\u001b[0m\u001b[0m\n",
            "\u001b[0;31mKeyboardInterrupt\u001b[0m: "
          ]
        }
      ]
    },
    {
      "cell_type": "code",
      "metadata": {
        "id": "6OoiHCxVUKdQ",
        "colab": {
          "base_uri": "https://localhost:8080/",
          "height": 1000
        },
        "outputId": "1150c746-fd4a-4c9a-d79e-87793b14f6b5"
      },
      "source": [
        "plot_history(history)        # plot accuracy\n",
        "plot_history(history, 'mae') # plot loss"
      ],
      "execution_count": null,
      "outputs": [
        {
          "output_type": "display_data",
          "data": {
            "image/png": "[encoded data removed]",
            "text/plain": [
              "<Figure size 576x432 with 1 Axes>"
            ]
          },
          "metadata": {
            "needs_background": "light"
          }
        },
        {
          "output_type": "display_data",
          "data": {
            "image/png": "[encoded data removed]",
            "text/plain": [
              "<Figure size 576x432 with 1 Axes>"
            ]
          },
          "metadata": {
            "needs_background": "light"
          }
        },
        {
          "output_type": "display_data",
          "data": {
            "image/png": "[encoded data removed]",
            "text/plain": [
              "<Figure size 576x432 with 1 Axes>"
            ]
          },
          "metadata": {
            "needs_background": "light"
          }
        }
      ]
    },
    {
      "cell_type": "code",
      "metadata": {
        "id": "52qTdIqxkU3N"
      },
      "source": [
        "model.save('/content/drive/My Drive/Colab Notebooks/' + 'model1.hdf5')"
      ],
      "execution_count": null,
      "outputs": []
    },
    {
      "cell_type": "markdown",
      "metadata": {
        "id": "3fbGHpN7UE-D"
      },
      "source": [
        "# Evaluate on Test Data"
      ]
    },
    {
      "cell_type": "code",
      "metadata": {
        "id": "SPkkTjYeUO6X",
        "colab": {
          "base_uri": "https://localhost:8080/"
        },
        "outputId": "100278ca-4f57-45cb-a582-6bde3f98d99b"
      },
      "source": [
        "pred = model.predict(test_generator, steps=len(test_generator.filenames))\n",
        "pred"
      ],
      "execution_count": null,
      "outputs": [
        {
          "output_type": "execute_result",
          "data": {
            "text/plain": [
              "array([[1.0924083e-03, 4.7493059e-02, 6.4439597e-03, ..., 2.5205789e-03,\n",
              "        4.6410118e-03, 2.6518434e-05],\n",
              "       [1.1047105e-03, 4.7360770e-02, 6.4740391e-03, ..., 2.5386617e-03,\n",
              "        4.6436409e-03, 2.6709096e-05],\n",
              "       [1.1062175e-03, 4.7374632e-02, 6.4702160e-03, ..., 2.5204432e-03,\n",
              "        4.7109867e-03, 2.6310385e-05],\n",
              "       ...,\n",
              "       [1.0947525e-03, 4.7455341e-02, 6.4428351e-03, ..., 2.5099397e-03,\n",
              "        4.6404153e-03, 2.6383532e-05],\n",
              "       [1.1006473e-03, 4.7438681e-02, 6.4552417e-03, ..., 2.5217156e-03,\n",
              "        4.7113467e-03, 2.6649905e-05],\n",
              "       [1.0977659e-03, 4.7261242e-02, 6.4271390e-03, ..., 2.5106946e-03,\n",
              "        4.6662078e-03, 2.5979965e-05]], dtype=float32)"
            ]
          },
          "metadata": {},
          "execution_count": 23
        }
      ]
    },
    {
      "cell_type": "code",
      "metadata": {
        "id": "EPuWhmC5USRs",
        "colab": {
          "base_uri": "https://localhost:8080/"
        },
        "outputId": "d9dfd2ff-cf7e-4855-8964-ba7e604ba770"
      },
      "source": [
        "evaluate_result(test_generator.classes, pred);"
      ],
      "execution_count": null,
      "outputs": [
        {
          "output_type": "stream",
          "name": "stdout",
          "text": [
            "[[0 0 0 ... 0 0 0]\n",
            " [0 0 0 ... 0 0 0]\n",
            " [0 0 0 ... 0 0 0]\n",
            " ...\n",
            " [0 0 0 ... 0 0 0]\n",
            " [0 0 0 ... 0 0 0]\n",
            " [0 0 0 ... 0 0 0]]\n",
            "\n",
            "\n",
            "Class 0:\n",
            "    Sensitivity (TPR):   0.000% (0 of 49)\n",
            "    Specificity (TNR): 100.000% (13365 of 13365)\n",
            "    Precision:             nan% (0 of 0)\n",
            "    Neg. pred. value:   99.635% (13365 of 13414)\n",
            "Class 1:\n",
            "    Sensitivity (TPR):   0.000% (0 of 199)\n",
            "    Specificity (TNR): 100.000% (13215 of 13215)\n",
            "    Precision:             nan% (0 of 0)\n",
            "    Neg. pred. value:   98.516% (13215 of 13414)\n",
            "Class 2:\n",
            "    Sensitivity (TPR):   0.000% (0 of 35)\n",
            "    Specificity (TNR): 100.000% (13379 of 13379)\n",
            "    Precision:             nan% (0 of 0)\n",
            "    Neg. pred. value:   99.739% (13379 of 13414)\n",
            "Class 3:\n",
            "    Sensitivity (TPR):   0.000% (0 of 790)\n",
            "    Specificity (TNR): 100.000% (12624 of 12624)\n",
            "    Precision:             nan% (0 of 0)\n",
            "    Neg. pred. value:   94.111% (12624 of 13414)\n",
            "Class 4:\n",
            "    Sensitivity (TPR):   0.000% (0 of 4)\n",
            "    Specificity (TNR): 100.000% (13410 of 13410)\n",
            "    Precision:             nan% (0 of 0)\n",
            "    Neg. pred. value:   99.970% (13410 of 13414)\n",
            "Class 5:\n",
            "    Sensitivity (TPR):   0.000% (0 of 19)\n",
            "    Specificity (TNR): 100.000% (13395 of 13395)\n",
            "    Precision:             nan% (0 of 0)\n",
            "    Neg. pred. value:   99.858% (13395 of 13414)\n",
            "Class 6:\n",
            "    Sensitivity (TPR):   0.000% (0 of 45)\n",
            "    Specificity (TNR): 100.000% (13369 of 13369)\n",
            "    Precision:             nan% (0 of 0)\n",
            "    Neg. pred. value:   99.665% (13369 of 13414)\n",
            "Class 7:\n",
            "    Sensitivity (TPR):   0.000% (0 of 400)\n",
            "    Specificity (TNR): 100.000% (13014 of 13014)\n",
            "    Precision:             nan% (0 of 0)\n",
            "    Neg. pred. value:   97.018% (13014 of 13414)\n",
            "Class 8:\n",
            "    Sensitivity (TPR):   0.000% (0 of 51)\n",
            "    Specificity (TNR): 100.000% (13363 of 13363)\n",
            "    Precision:             nan% (0 of 0)\n",
            "    Neg. pred. value:   99.620% (13363 of 13414)\n",
            "Class 9:\n",
            "    Sensitivity (TPR):   0.000% (0 of 328)\n",
            "    Specificity (TNR): 100.000% (13086 of 13086)\n",
            "    Precision:             nan% (0 of 0)\n",
            "    Neg. pred. value:   97.555% (13086 of 13414)\n",
            "Class 10:\n",
            "    Sensitivity (TPR):   0.000% (0 of 111)\n",
            "    Specificity (TNR): 100.000% (13303 of 13303)\n",
            "    Precision:             nan% (0 of 0)\n",
            "    Neg. pred. value:   99.173% (13303 of 13414)\n",
            "Class 11:\n",
            "    Sensitivity (TPR):   0.000% (0 of 68)\n",
            "    Specificity (TNR): 100.000% (13346 of 13346)\n",
            "    Precision:             nan% (0 of 0)\n",
            "    Neg. pred. value:   99.493% (13346 of 13414)\n",
            "Class 12:\n",
            "    Sensitivity (TPR):     nan% (0 of 0)\n",
            "    Specificity (TNR): 100.000% (13414 of 13414)\n",
            "    Precision:             nan% (0 of 0)\n",
            "    Neg. pred. value:  100.000% (13414 of 13414)\n",
            "Class 13:\n",
            "    Sensitivity (TPR):   0.000% (0 of 681)\n",
            "    Specificity (TNR): 100.000% (12733 of 12733)\n",
            "    Precision:             nan% (0 of 0)\n",
            "    Neg. pred. value:   94.923% (12733 of 13414)\n",
            "Class 14:\n",
            "    Sensitivity (TPR):     nan% (0 of 0)\n",
            "    Specificity (TNR): 100.000% (13414 of 13414)\n",
            "    Precision:             nan% (0 of 0)\n",
            "    Neg. pred. value:  100.000% (13414 of 13414)\n",
            "Class 15:\n",
            "    Sensitivity (TPR):   0.000% (0 of 10)\n",
            "    Specificity (TNR): 100.000% (13404 of 13404)\n",
            "    Precision:             nan% (0 of 0)\n",
            "    Neg. pred. value:   99.925% (13404 of 13414)\n",
            "Class 16:\n",
            "    Sensitivity (TPR):   0.000% (0 of 9)\n",
            "    Specificity (TNR): 100.000% (13405 of 13405)\n",
            "    Precision:             nan% (0 of 0)\n",
            "    Neg. pred. value:   99.933% (13405 of 13414)\n",
            "Class 17:\n",
            "    Sensitivity (TPR):     nan% (0 of 0)\n",
            "    Specificity (TNR): 100.000% (13414 of 13414)\n",
            "    Precision:             nan% (0 of 0)\n",
            "    Neg. pred. value:  100.000% (13414 of 13414)\n",
            "Class 18:\n",
            "    Sensitivity (TPR):   0.000% (0 of 33)\n",
            "    Specificity (TNR): 100.000% (13381 of 13381)\n",
            "    Precision:             nan% (0 of 0)\n",
            "    Neg. pred. value:   99.754% (13381 of 13414)\n",
            "Class 19:\n",
            "    Sensitivity (TPR):   0.000% (0 of 3)\n",
            "    Specificity (TNR): 100.000% (13411 of 13411)\n",
            "    Precision:             nan% (0 of 0)\n",
            "    Neg. pred. value:   99.978% (13411 of 13414)\n",
            "Class 20:\n",
            "    Sensitivity (TPR):   0.000% (0 of 21)\n",
            "    Specificity (TNR): 100.000% (13393 of 13393)\n",
            "    Precision:             nan% (0 of 0)\n",
            "    Neg. pred. value:   99.843% (13393 of 13414)\n",
            "Class 21:\n",
            "    Sensitivity (TPR):   0.000% (0 of 627)\n",
            "    Specificity (TNR): 100.000% (12787 of 12787)\n",
            "    Precision:             nan% (0 of 0)\n",
            "    Neg. pred. value:   95.326% (12787 of 13414)\n",
            "Class 22:\n",
            "    Sensitivity (TPR):   0.000% (0 of 650)\n",
            "    Specificity (TNR): 100.000% (12764 of 12764)\n",
            "    Precision:             nan% (0 of 0)\n",
            "    Neg. pred. value:   95.154% (12764 of 13414)\n",
            "Class 23:\n",
            "    Sensitivity (TPR):   0.000% (0 of 780)\n",
            "    Specificity (TNR): 100.000% (12634 of 12634)\n",
            "    Precision:             nan% (0 of 0)\n",
            "    Neg. pred. value:   94.185% (12634 of 13414)\n",
            "Class 24:\n",
            "    Sensitivity (TPR):   0.000% (0 of 761)\n",
            "    Specificity (TNR): 100.000% (12653 of 12653)\n",
            "    Precision:             nan% (0 of 0)\n",
            "    Neg. pred. value:   94.327% (12653 of 13414)\n",
            "Class 25:\n",
            "    Sensitivity (TPR):   0.000% (0 of 836)\n",
            "    Specificity (TNR): 100.000% (12578 of 12578)\n",
            "    Precision:             nan% (0 of 0)\n",
            "    Neg. pred. value:   93.768% (12578 of 13414)\n",
            "Class 26:\n",
            "    Sensitivity (TPR):   0.000% (0 of 66)\n",
            "    Specificity (TNR): 100.000% (13348 of 13348)\n",
            "    Precision:             nan% (0 of 0)\n",
            "    Neg. pred. value:   99.508% (13348 of 13414)\n",
            "Class 27:\n",
            "    Sensitivity (TPR):   0.000% (0 of 101)\n",
            "    Specificity (TNR): 100.000% (13313 of 13313)\n",
            "    Precision:             nan% (0 of 0)\n",
            "    Neg. pred. value:   99.247% (13313 of 13414)\n",
            "Class 28:\n",
            "    Sensitivity (TPR):   0.000% (0 of 240)\n",
            "    Specificity (TNR): 100.000% (13174 of 13174)\n",
            "    Precision:             nan% (0 of 0)\n",
            "    Neg. pred. value:   98.211% (13174 of 13414)\n",
            "Class 29:\n",
            "    Sensitivity (TPR):   0.000% (0 of 39)\n",
            "    Specificity (TNR): 100.000% (13375 of 13375)\n",
            "    Precision:             nan% (0 of 0)\n",
            "    Neg. pred. value:   99.709% (13375 of 13414)\n",
            "Class 30:\n",
            "    Sensitivity (TPR):   0.000% (0 of 258)\n",
            "    Specificity (TNR): 100.000% (13156 of 13156)\n",
            "    Precision:             nan% (0 of 0)\n",
            "    Neg. pred. value:   98.077% (13156 of 13414)\n",
            "Class 31:\n",
            "    Sensitivity (TPR):   0.000% (0 of 34)\n",
            "    Specificity (TNR): 100.000% (13380 of 13380)\n",
            "    Precision:             nan% (0 of 0)\n",
            "    Neg. pred. value:   99.747% (13380 of 13414)\n",
            "Class 32:\n",
            "    Sensitivity (TPR):   0.000% (0 of 3)\n",
            "    Specificity (TNR): 100.000% (13411 of 13411)\n",
            "    Precision:             nan% (0 of 0)\n",
            "    Neg. pred. value:   99.978% (13411 of 13414)\n",
            "Class 33:\n",
            "    Sensitivity (TPR):   0.000% (0 of 10)\n",
            "    Specificity (TNR): 100.000% (13404 of 13404)\n",
            "    Precision:             nan% (0 of 0)\n",
            "    Neg. pred. value:   99.925% (13404 of 13414)\n",
            "Class 34:\n",
            "    Sensitivity (TPR):   0.000% (0 of 2)\n",
            "    Specificity (TNR): 100.000% (13412 of 13412)\n",
            "    Precision:             nan% (0 of 0)\n",
            "    Neg. pred. value:   99.985% (13412 of 13414)\n",
            "Class 35:\n",
            "    Sensitivity (TPR):   0.000% (0 of 287)\n",
            "    Specificity (TNR): 100.000% (13127 of 13127)\n",
            "    Precision:             nan% (0 of 0)\n",
            "    Neg. pred. value:   97.860% (13127 of 13414)\n",
            "Class 36:\n",
            "    Sensitivity (TPR):   0.000% (0 of 406)\n",
            "    Specificity (TNR): 100.000% (13008 of 13008)\n",
            "    Precision:             nan% (0 of 0)\n",
            "    Neg. pred. value:   96.973% (13008 of 13414)\n",
            "Class 37:\n",
            "    Sensitivity (TPR):   0.000% (0 of 46)\n",
            "    Specificity (TNR): 100.000% (13368 of 13368)\n",
            "    Precision:             nan% (0 of 0)\n",
            "    Neg. pred. value:   99.657% (13368 of 13414)\n",
            "Class 38:\n",
            "    Sensitivity (TPR):   0.000% (0 of 37)\n",
            "    Specificity (TNR): 100.000% (13377 of 13377)\n",
            "    Precision:             nan% (0 of 0)\n",
            "    Neg. pred. value:   99.724% (13377 of 13414)\n",
            "Class 39:\n",
            "    Sensitivity (TPR):   0.000% (0 of 108)\n",
            "    Specificity (TNR): 100.000% (13306 of 13306)\n",
            "    Precision:             nan% (0 of 0)\n",
            "    Neg. pred. value:   99.195% (13306 of 13414)\n",
            "Class 40:\n",
            "    Sensitivity (TPR):   0.000% (0 of 24)\n",
            "    Specificity (TNR): 100.000% (13390 of 13390)\n",
            "    Precision:             nan% (0 of 0)\n",
            "    Neg. pred. value:   99.821% (13390 of 13414)\n",
            "Class 41:\n",
            "    Sensitivity (TPR):   0.000% (0 of 7)\n",
            "    Specificity (TNR): 100.000% (13407 of 13407)\n",
            "    Precision:             nan% (0 of 0)\n",
            "    Neg. pred. value:   99.948% (13407 of 13414)\n",
            "Class 42:\n",
            "    Sensitivity (TPR):   0.000% (0 of 86)\n",
            "    Specificity (TNR): 100.000% (13328 of 13328)\n",
            "    Precision:             nan% (0 of 0)\n",
            "    Neg. pred. value:   99.359% (13328 of 13414)\n",
            "Class 43:\n",
            "    Sensitivity (TPR):   0.000% (0 of 23)\n",
            "    Specificity (TNR): 100.000% (13391 of 13391)\n",
            "    Precision:             nan% (0 of 0)\n",
            "    Neg. pred. value:   99.829% (13391 of 13414)\n",
            "Class 44:\n",
            "    Sensitivity (TPR):   0.000% (0 of 804)\n",
            "    Specificity (TNR): 100.000% (12610 of 12610)\n",
            "    Precision:             nan% (0 of 0)\n",
            "    Neg. pred. value:   94.006% (12610 of 13414)\n",
            "Class 45:\n",
            "    Sensitivity (TPR):   0.000% (0 of 20)\n",
            "    Specificity (TNR): 100.000% (13394 of 13394)\n",
            "    Precision:             nan% (0 of 0)\n",
            "    Neg. pred. value:   99.851% (13394 of 13414)\n",
            "Class 46:\n",
            "    Sensitivity (TPR):   0.000% (0 of 23)\n",
            "    Specificity (TNR): 100.000% (13391 of 13391)\n",
            "    Precision:             nan% (0 of 0)\n",
            "    Neg. pred. value:   99.829% (13391 of 13414)\n",
            "Class 47:\n",
            "    Sensitivity (TPR): 100.000% (529 of 529)\n",
            "    Specificity (TNR):   0.000% (0 of 12885)\n",
            "    Precision:           3.944% (529 of 13414)\n",
            "    Neg. pred. value:      nan% (0 of 0)\n",
            "Class 48:\n",
            "    Sensitivity (TPR):   0.000% (0 of 374)\n",
            "    Specificity (TNR): 100.000% (13040 of 13040)\n",
            "    Precision:             nan% (0 of 0)\n",
            "    Neg. pred. value:   97.212% (13040 of 13414)\n",
            "Class 49:\n",
            "    Sensitivity (TPR):   0.000% (0 of 84)\n",
            "    Specificity (TNR): 100.000% (13330 of 13330)\n",
            "    Precision:             nan% (0 of 0)\n",
            "    Neg. pred. value:   99.374% (13330 of 13414)\n",
            "Class 50:\n",
            "    Sensitivity (TPR):   0.000% (0 of 18)\n",
            "    Specificity (TNR): 100.000% (13396 of 13396)\n",
            "    Precision:             nan% (0 of 0)\n",
            "    Neg. pred. value:   99.866% (13396 of 13414)\n",
            "Class 51:\n",
            "    Sensitivity (TPR):   0.000% (0 of 556)\n",
            "    Specificity (TNR): 100.000% (12858 of 12858)\n",
            "    Precision:             nan% (0 of 0)\n",
            "    Neg. pred. value:   95.855% (12858 of 13414)\n",
            "Class 52:\n",
            "    Sensitivity (TPR):   0.000% (0 of 28)\n",
            "    Specificity (TNR): 100.000% (13386 of 13386)\n",
            "    Precision:             nan% (0 of 0)\n",
            "    Neg. pred. value:   99.791% (13386 of 13414)\n",
            "Class 53:\n",
            "    Sensitivity (TPR):   0.000% (0 of 13)\n",
            "    Specificity (TNR): 100.000% (13401 of 13401)\n",
            "    Precision:             nan% (0 of 0)\n",
            "    Neg. pred. value:   99.903% (13401 of 13414)\n",
            "Class 54:\n",
            "    Sensitivity (TPR):   0.000% (0 of 2)\n",
            "    Specificity (TNR): 100.000% (13412 of 13412)\n",
            "    Precision:             nan% (0 of 0)\n",
            "    Neg. pred. value:   99.985% (13412 of 13414)\n",
            "Class 55:\n",
            "    Sensitivity (TPR):   0.000% (0 of 342)\n",
            "    Specificity (TNR): 100.000% (13072 of 13072)\n",
            "    Precision:             nan% (0 of 0)\n",
            "    Neg. pred. value:   97.450% (13072 of 13414)\n",
            "Class 56:\n",
            "    Sensitivity (TPR):   0.000% (0 of 6)\n",
            "    Specificity (TNR): 100.000% (13408 of 13408)\n",
            "    Precision:             nan% (0 of 0)\n",
            "    Neg. pred. value:   99.955% (13408 of 13414)\n",
            "Class 57:\n",
            "    Sensitivity (TPR):   0.000% (0 of 47)\n",
            "    Specificity (TNR): 100.000% (13367 of 13367)\n",
            "    Precision:             nan% (0 of 0)\n",
            "    Neg. pred. value:   99.650% (13367 of 13414)\n",
            "Class 58:\n",
            "    Sensitivity (TPR):   0.000% (0 of 394)\n",
            "    Specificity (TNR): 100.000% (13020 of 13020)\n",
            "    Precision:             nan% (0 of 0)\n",
            "    Neg. pred. value:   97.063% (13020 of 13414)\n",
            "Class 59:\n",
            "    Sensitivity (TPR):   0.000% (0 of 306)\n",
            "    Specificity (TNR): 100.000% (13108 of 13108)\n",
            "    Precision:             nan% (0 of 0)\n",
            "    Neg. pred. value:   97.719% (13108 of 13414)\n",
            "Class 60:\n",
            "    Sensitivity (TPR):   0.000% (0 of 44)\n",
            "    Specificity (TNR): 100.000% (13370 of 13370)\n",
            "    Precision:             nan% (0 of 0)\n",
            "    Neg. pred. value:   99.672% (13370 of 13414)\n",
            "Class 61:\n",
            "    Sensitivity (TPR):   0.000% (0 of 507)\n",
            "    Specificity (TNR): 100.000% (12907 of 12907)\n",
            "    Precision:             nan% (0 of 0)\n",
            "    Neg. pred. value:   96.220% (12907 of 13414)\n",
            "Class 62:\n",
            "    Sensitivity (TPR):   0.000% (0 of 318)\n",
            "    Specificity (TNR): 100.000% (13096 of 13096)\n",
            "    Precision:             nan% (0 of 0)\n",
            "    Neg. pred. value:   97.629% (13096 of 13414)\n",
            "Class 63:\n",
            "    Sensitivity (TPR):   0.000% (0 of 154)\n",
            "    Specificity (TNR): 100.000% (13260 of 13260)\n",
            "    Precision:             nan% (0 of 0)\n",
            "    Neg. pred. value:   98.852% (13260 of 13414)\n",
            "Class 64:\n",
            "    Sensitivity (TPR):   0.000% (0 of 138)\n",
            "    Specificity (TNR): 100.000% (13276 of 13276)\n",
            "    Precision:             nan% (0 of 0)\n",
            "    Neg. pred. value:   98.971% (13276 of 13414)\n",
            "Class 65:\n",
            "    Sensitivity (TPR):   0.000% (0 of 420)\n",
            "    Specificity (TNR): 100.000% (12994 of 12994)\n",
            "    Precision:             nan% (0 of 0)\n",
            "    Neg. pred. value:   96.869% (12994 of 13414)\n",
            "Class 66:\n",
            "    Sensitivity (TPR):     nan% (0 of 0)\n",
            "    Specificity (TNR): 100.000% (13414 of 13414)\n",
            "    Precision:             nan% (0 of 0)\n",
            "    Neg. pred. value:  100.000% (13414 of 13414)\n",
            "\n",
            "Overall accuracy:    3.944% (529 of 13414)\n",
            "Balanced accuracy:   1.587%\n"
          ]
        },
        {
          "output_type": "stream",
          "name": "stderr",
          "text": [
            "/usr/local/lib/python3.7/dist-packages/ipykernel_launcher.py:30: RuntimeWarning: invalid value encountered in long_scalars\n",
            "/usr/local/lib/python3.7/dist-packages/ipykernel_launcher.py:28: RuntimeWarning: invalid value encountered in long_scalars\n",
            "/usr/local/lib/python3.7/dist-packages/ipykernel_launcher.py:35: RuntimeWarning: invalid value encountered in double_scalars\n"
          ]
        }
      ]
    },
    {
      "cell_type": "markdown",
      "metadata": {
        "id": "r1sqV7ETXei4"
      },
      "source": [
        "# Try pretrained models"
      ]
    },
    {
      "cell_type": "code",
      "metadata": {
        "colab": {
          "base_uri": "https://localhost:8080/"
        },
        "id": "55ElbfG7Xhh_",
        "outputId": "f8edb28d-b48b-4350-d9de-48edba63cbe6"
      },
      "source": [
        "base_model = tf.keras.applications.InceptionV3(weights='imagenet', include_top=False, input_shape=(299, 299, 3))\n",
        "for layer in base_model.layers:\n",
        "    layer.trainable = False\n",
        "\n",
        "model2 = tf.keras.models.Sequential()\n",
        "model2.add(base_model)\n",
        "model2.add(tf.keras.layers.GlobalAveragePooling2D())\n",
        "model2.add(tf.keras.layers.Dense(128))\n",
        "model2.add(tf.keras.layers.Dropout(0.2))\n",
        "model2.add(tf.keras.layers.Dense(len(all_classes), activation = 'softmax'))\n",
        "model2.summary()"
      ],
      "execution_count": null,
      "outputs": [
        {
          "output_type": "stream",
          "name": "stdout",
          "text": [
            "Model: \"sequential_2\"\n",
            "_________________________________________________________________\n",
            " Layer (type)                Output Shape              Param #   \n",
            "=================================================================\n",
            " inception_v3 (Functional)   (None, 8, 8, 2048)        21802784  \n",
            "                                                                 \n",
            " global_average_pooling2d_1   (None, 2048)             0         \n",
            " (GlobalAveragePooling2D)                                        \n",
            "                                                                 \n",
            " dense_4 (Dense)             (None, 128)               262272    \n",
            "                                                                 \n",
            " dropout_6 (Dropout)         (None, 128)               0         \n",
            "                                                                 \n",
            " dense_5 (Dense)             (None, 67)                8643      \n",
            "                                                                 \n",
            "=================================================================\n",
            "Total params: 22,073,699\n",
            "Trainable params: 270,915\n",
            "Non-trainable params: 21,802,784\n",
            "_________________________________________________________________\n"
          ]
        }
      ]
    },
    {
      "cell_type": "code",
      "metadata": {
        "id": "eRNRLCNViffT"
      },
      "source": [
        "model2.compile(optimizer = tf.keras.optimizers.SGD(learning_rate=0.001, momentum=0.99, nesterov=True), loss=\"categorical_crossentropy\", metrics=[\"accuracy\"])"
      ],
      "execution_count": null,
      "outputs": []
    },
    {
      "cell_type": "code",
      "metadata": {
        "colab": {
          "base_uri": "https://localhost:8080/"
        },
        "id": "ra2JldcPiuoV",
        "outputId": "2cf3b7ef-86d5-431e-94d4-16d180e84f22"
      },
      "source": [
        "ImageFile.LOAD_TRUNCATED_IMAGES = True\n",
        "\n",
        "history = model2.fit(train_generator,\n",
        "                     steps_per_epoch=175, \n",
        "                     epochs=15,\n",
        "                     validation_data=validation_generator, \n",
        "                     validation_steps=44,\n",
        "                     callbacks=callbacks_list)"
      ],
      "execution_count": null,
      "outputs": [
        {
          "output_type": "stream",
          "name": "stdout",
          "text": [
            "Epoch 1/15\n",
            "175/175 [==============================] - ETA: 0s - loss: nan - accuracy: 0.0184\n",
            "Epoch 00001: val_accuracy improved from 0.00320 to 0.00355, saving model to /content/drive/My Drive/Colab Notebooks/models/project_01-0.0036.hdf5\n",
            "175/175 [==============================] - 94s 510ms/step - loss: nan - accuracy: 0.0184 - val_loss: nan - val_accuracy: 0.0036\n",
            "Epoch 2/15\n",
            "175/175 [==============================] - ETA: 0s - loss: nan - accuracy: 0.0036\n",
            "Epoch 00002: val_accuracy did not improve from 0.00355\n",
            "175/175 [==============================] - 87s 499ms/step - loss: nan - accuracy: 0.0036 - val_loss: nan - val_accuracy: 0.0025\n",
            "Epoch 3/15\n",
            "175/175 [==============================] - ETA: 0s - loss: nan - accuracy: 0.0037\n",
            "Epoch 00003: val_accuracy did not improve from 0.00355\n",
            "175/175 [==============================] - 88s 502ms/step - loss: nan - accuracy: 0.0037 - val_loss: nan - val_accuracy: 0.0028\n",
            "Epoch 4/15\n",
            "175/175 [==============================] - ETA: 0s - loss: nan - accuracy: 0.0038\n",
            "Epoch 00004: val_accuracy did not improve from 0.00355\n",
            "175/175 [==============================] - 87s 495ms/step - loss: nan - accuracy: 0.0038 - val_loss: nan - val_accuracy: 0.0025\n",
            "Epoch 5/15\n",
            "175/175 [==============================] - ETA: 0s - loss: nan - accuracy: 0.0046\n",
            "Epoch 00005: val_accuracy improved from 0.00355 to 0.00426, saving model to /content/drive/My Drive/Colab Notebooks/models/project_05-0.0043.hdf5\n",
            "175/175 [==============================] - 87s 497ms/step - loss: nan - accuracy: 0.0046 - val_loss: nan - val_accuracy: 0.0043\n",
            "Epoch 6/15\n",
            "175/175 [==============================] - ETA: 0s - loss: nan - accuracy: 0.0030\n",
            "Epoch 00006: val_accuracy did not improve from 0.00426\n",
            "175/175 [==============================] - 87s 495ms/step - loss: nan - accuracy: 0.0030 - val_loss: nan - val_accuracy: 0.0028\n",
            "Epoch 7/15\n",
            "175/175 [==============================] - ETA: 0s - loss: nan - accuracy: 0.0049\n",
            "Epoch 00007: val_accuracy did not improve from 0.00426\n",
            "175/175 [==============================] - 86s 490ms/step - loss: nan - accuracy: 0.0049 - val_loss: nan - val_accuracy: 0.0028\n",
            "Epoch 8/15\n",
            "175/175 [==============================] - ETA: 0s - loss: nan - accuracy: 0.0036\n",
            "Epoch 00008: val_accuracy improved from 0.00426 to 0.00462, saving model to /content/drive/My Drive/Colab Notebooks/models/project_08-0.0046.hdf5\n",
            "175/175 [==============================] - 87s 500ms/step - loss: nan - accuracy: 0.0036 - val_loss: nan - val_accuracy: 0.0046\n",
            "Epoch 9/15\n",
            "175/175 [==============================] - ETA: 0s - loss: nan - accuracy: 0.0039\n",
            "Epoch 00009: val_accuracy did not improve from 0.00462\n",
            "175/175 [==============================] - 87s 497ms/step - loss: nan - accuracy: 0.0039 - val_loss: nan - val_accuracy: 0.0039\n",
            "Epoch 10/15\n",
            "175/175 [==============================] - ETA: 0s - loss: nan - accuracy: 0.0038\n",
            "Epoch 00010: val_accuracy did not improve from 0.00462\n",
            "175/175 [==============================] - 87s 500ms/step - loss: nan - accuracy: 0.0038 - val_loss: nan - val_accuracy: 0.0025\n",
            "Epoch 11/15\n",
            "175/175 [==============================] - ETA: 0s - loss: nan - accuracy: 0.0033\n",
            "Epoch 00011: val_accuracy did not improve from 0.00462\n",
            "175/175 [==============================] - 86s 492ms/step - loss: nan - accuracy: 0.0033 - val_loss: nan - val_accuracy: 0.0032\n",
            "Epoch 12/15\n",
            "175/175 [==============================] - ETA: 0s - loss: nan - accuracy: 0.0038\n",
            "Epoch 00012: val_accuracy did not improve from 0.00462\n",
            "175/175 [==============================] - 86s 492ms/step - loss: nan - accuracy: 0.0038 - val_loss: nan - val_accuracy: 0.0032\n",
            "Epoch 13/15\n",
            "175/175 [==============================] - ETA: 0s - loss: nan - accuracy: 0.0041\n",
            "Epoch 00013: val_accuracy did not improve from 0.00462\n",
            "175/175 [==============================] - 87s 496ms/step - loss: nan - accuracy: 0.0041 - val_loss: nan - val_accuracy: 0.0032\n",
            "Epoch 14/15\n",
            "175/175 [==============================] - ETA: 0s - loss: nan - accuracy: 0.0042\n",
            "Epoch 00014: val_accuracy improved from 0.00462 to 0.00639, saving model to /content/drive/My Drive/Colab Notebooks/models/project_14-0.0064.hdf5\n",
            "175/175 [==============================] - 87s 499ms/step - loss: nan - accuracy: 0.0042 - val_loss: nan - val_accuracy: 0.0064\n",
            "Epoch 15/15\n",
            "175/175 [==============================] - ETA: 0s - loss: nan - accuracy: 0.0046\n",
            "Epoch 00015: val_accuracy did not improve from 0.00639\n",
            "175/175 [==============================] - 87s 496ms/step - loss: nan - accuracy: 0.0046 - val_loss: nan - val_accuracy: 0.0036\n"
          ]
        }
      ]
    },
    {
      "cell_type": "code",
      "metadata": {
        "colab": {
          "base_uri": "https://localhost:8080/",
          "height": 791
        },
        "id": "-MuWtjXruXwd",
        "outputId": "8c27c442-b8da-498e-b3d1-f31cd1b2a123"
      },
      "source": [
        "plot_history(history)"
      ],
      "execution_count": null,
      "outputs": [
        {
          "output_type": "display_data",
          "data": {
            "image/png": "[encoded data removed]",
            "text/plain": [
              "<Figure size 576x432 with 1 Axes>"
            ]
          },
          "metadata": {
            "needs_background": "light"
          }
        },
        {
          "output_type": "display_data",
          "data": {
            "image/png": "[encoded data removed]",
            "text/plain": [
              "<Figure size 576x432 with 1 Axes>"
            ]
          },
          "metadata": {
            "needs_background": "light"
          }
        }
      ]
    },
    {
      "cell_type": "code",
      "metadata": {
        "id": "tssora4-jBU4",
        "colab": {
          "base_uri": "https://localhost:8080/"
        },
        "outputId": "bd73958b-40b0-41d8-e649-d55fd9b01eba"
      },
      "source": [
        "pred = model2.predict(test_generator, steps=len(test_generator.filenames))\n",
        "pred"
      ],
      "execution_count": null,
      "outputs": [
        {
          "output_type": "execute_result",
          "data": {
            "text/plain": [
              "array([[nan, nan, nan, ..., nan, nan, nan],\n",
              "       [nan, nan, nan, ..., nan, nan, nan],\n",
              "       [nan, nan, nan, ..., nan, nan, nan],\n",
              "       ...,\n",
              "       [nan, nan, nan, ..., nan, nan, nan],\n",
              "       [nan, nan, nan, ..., nan, nan, nan],\n",
              "       [nan, nan, nan, ..., nan, nan, nan]], dtype=float32)"
            ]
          },
          "metadata": {},
          "execution_count": 43
        }
      ]
    },
    {
      "cell_type": "code",
      "metadata": {
        "colab": {
          "base_uri": "https://localhost:8080/"
        },
        "id": "7GDSTeh_jDTf",
        "outputId": "393139a3-4bbf-4f55-bcc6-979cd85ec550"
      },
      "source": [
        "evaluate_result(test_generator.classes, pred);"
      ],
      "execution_count": null,
      "outputs": [
        {
          "output_type": "stream",
          "name": "stdout",
          "text": [
            "[[ 49   0   0 ...   0   0   0]\n",
            " [199   0   0 ...   0   0   0]\n",
            " [ 35   0   0 ...   0   0   0]\n",
            " ...\n",
            " [138   0   0 ...   0   0   0]\n",
            " [420   0   0 ...   0   0   0]\n",
            " [  0   0   0 ...   0   0   0]]\n",
            "\n",
            "\n",
            "Class 0:\n",
            "    Sensitivity (TPR): 100.000% (49 of 49)\n",
            "    Specificity (TNR):   0.000% (0 of 13365)\n",
            "    Precision:           0.365% (49 of 13414)\n",
            "    Neg. pred. value:      nan% (0 of 0)\n",
            "Class 1:\n",
            "    Sensitivity (TPR):   0.000% (0 of 199)\n",
            "    Specificity (TNR): 100.000% (13215 of 13215)\n",
            "    Precision:             nan% (0 of 0)\n",
            "    Neg. pred. value:   98.516% (13215 of 13414)\n",
            "Class 2:\n",
            "    Sensitivity (TPR):   0.000% (0 of 35)\n",
            "    Specificity (TNR): 100.000% (13379 of 13379)\n",
            "    Precision:             nan% (0 of 0)\n",
            "    Neg. pred. value:   99.739% (13379 of 13414)\n",
            "Class 3:\n",
            "    Sensitivity (TPR):   0.000% (0 of 790)\n",
            "    Specificity (TNR): 100.000% (12624 of 12624)\n",
            "    Precision:             nan% (0 of 0)\n",
            "    Neg. pred. value:   94.111% (12624 of 13414)\n",
            "Class 4:\n",
            "    Sensitivity (TPR):   0.000% (0 of 4)\n",
            "    Specificity (TNR): 100.000% (13410 of 13410)\n",
            "    Precision:             nan% (0 of 0)\n",
            "    Neg. pred. value:   99.970% (13410 of 13414)\n",
            "Class 5:\n",
            "    Sensitivity (TPR):   0.000% (0 of 19)\n",
            "    Specificity (TNR): 100.000% (13395 of 13395)\n",
            "    Precision:             nan% (0 of 0)\n",
            "    Neg. pred. value:   99.858% (13395 of 13414)\n",
            "Class 6:\n",
            "    Sensitivity (TPR):   0.000% (0 of 45)\n",
            "    Specificity (TNR): 100.000% (13369 of 13369)\n",
            "    Precision:             nan% (0 of 0)\n",
            "    Neg. pred. value:   99.665% (13369 of 13414)\n",
            "Class 7:\n",
            "    Sensitivity (TPR):   0.000% (0 of 400)\n",
            "    Specificity (TNR): 100.000% (13014 of 13014)\n",
            "    Precision:             nan% (0 of 0)\n",
            "    Neg. pred. value:   97.018% (13014 of 13414)\n",
            "Class 8:\n",
            "    Sensitivity (TPR):   0.000% (0 of 51)\n",
            "    Specificity (TNR): 100.000% (13363 of 13363)\n",
            "    Precision:             nan% (0 of 0)\n",
            "    Neg. pred. value:   99.620% (13363 of 13414)\n",
            "Class 9:\n",
            "    Sensitivity (TPR):   0.000% (0 of 328)\n",
            "    Specificity (TNR): 100.000% (13086 of 13086)\n",
            "    Precision:             nan% (0 of 0)\n",
            "    Neg. pred. value:   97.555% (13086 of 13414)\n",
            "Class 10:\n",
            "    Sensitivity (TPR):   0.000% (0 of 111)\n",
            "    Specificity (TNR): 100.000% (13303 of 13303)\n",
            "    Precision:             nan% (0 of 0)\n",
            "    Neg. pred. value:   99.173% (13303 of 13414)\n",
            "Class 11:\n",
            "    Sensitivity (TPR):   0.000% (0 of 68)\n",
            "    Specificity (TNR): 100.000% (13346 of 13346)\n",
            "    Precision:             nan% (0 of 0)\n",
            "    Neg. pred. value:   99.493% (13346 of 13414)\n",
            "Class 12:\n",
            "    Sensitivity (TPR):     nan% (0 of 0)\n",
            "    Specificity (TNR): 100.000% (13414 of 13414)\n",
            "    Precision:             nan% (0 of 0)\n",
            "    Neg. pred. value:  100.000% (13414 of 13414)\n",
            "Class 13:\n",
            "    Sensitivity (TPR):   0.000% (0 of 681)\n",
            "    Specificity (TNR): 100.000% (12733 of 12733)\n",
            "    Precision:             nan% (0 of 0)\n",
            "    Neg. pred. value:   94.923% (12733 of 13414)\n",
            "Class 14:\n",
            "    Sensitivity (TPR):     nan% (0 of 0)\n",
            "    Specificity (TNR): 100.000% (13414 of 13414)\n",
            "    Precision:             nan% (0 of 0)\n",
            "    Neg. pred. value:  100.000% (13414 of 13414)\n",
            "Class 15:\n",
            "    Sensitivity (TPR):   0.000% (0 of 10)\n",
            "    Specificity (TNR): 100.000% (13404 of 13404)\n",
            "    Precision:             nan% (0 of 0)\n",
            "    Neg. pred. value:   99.925% (13404 of 13414)\n",
            "Class 16:\n",
            "    Sensitivity (TPR):   0.000% (0 of 9)\n",
            "    Specificity (TNR): 100.000% (13405 of 13405)\n",
            "    Precision:             nan% (0 of 0)\n",
            "    Neg. pred. value:   99.933% (13405 of 13414)\n",
            "Class 17:\n",
            "    Sensitivity (TPR):     nan% (0 of 0)\n",
            "    Specificity (TNR): 100.000% (13414 of 13414)\n",
            "    Precision:             nan% (0 of 0)\n",
            "    Neg. pred. value:  100.000% (13414 of 13414)\n",
            "Class 18:\n",
            "    Sensitivity (TPR):   0.000% (0 of 33)\n",
            "    Specificity (TNR): 100.000% (13381 of 13381)\n",
            "    Precision:             nan% (0 of 0)\n",
            "    Neg. pred. value:   99.754% (13381 of 13414)\n",
            "Class 19:\n",
            "    Sensitivity (TPR):   0.000% (0 of 3)\n",
            "    Specificity (TNR): 100.000% (13411 of 13411)\n",
            "    Precision:             nan% (0 of 0)\n",
            "    Neg. pred. value:   99.978% (13411 of 13414)\n",
            "Class 20:\n",
            "    Sensitivity (TPR):   0.000% (0 of 21)\n",
            "    Specificity (TNR): 100.000% (13393 of 13393)\n",
            "    Precision:             nan% (0 of 0)\n",
            "    Neg. pred. value:   99.843% (13393 of 13414)\n",
            "Class 21:\n",
            "    Sensitivity (TPR):   0.000% (0 of 627)\n",
            "    Specificity (TNR): 100.000% (12787 of 12787)\n",
            "    Precision:             nan% (0 of 0)\n",
            "    Neg. pred. value:   95.326% (12787 of 13414)\n",
            "Class 22:\n",
            "    Sensitivity (TPR):   0.000% (0 of 650)\n",
            "    Specificity (TNR): 100.000% (12764 of 12764)\n",
            "    Precision:             nan% (0 of 0)\n",
            "    Neg. pred. value:   95.154% (12764 of 13414)\n",
            "Class 23:\n",
            "    Sensitivity (TPR):   0.000% (0 of 780)\n",
            "    Specificity (TNR): 100.000% (12634 of 12634)\n",
            "    Precision:             nan% (0 of 0)\n",
            "    Neg. pred. value:   94.185% (12634 of 13414)\n",
            "Class 24:\n",
            "    Sensitivity (TPR):   0.000% (0 of 761)\n",
            "    Specificity (TNR): 100.000% (12653 of 12653)\n",
            "    Precision:             nan% (0 of 0)\n",
            "    Neg. pred. value:   94.327% (12653 of 13414)\n",
            "Class 25:\n",
            "    Sensitivity (TPR):   0.000% (0 of 836)\n",
            "    Specificity (TNR): 100.000% (12578 of 12578)\n",
            "    Precision:             nan% (0 of 0)\n",
            "    Neg. pred. value:   93.768% (12578 of 13414)\n",
            "Class 26:\n",
            "    Sensitivity (TPR):   0.000% (0 of 66)\n",
            "    Specificity (TNR): 100.000% (13348 of 13348)\n",
            "    Precision:             nan% (0 of 0)\n",
            "    Neg. pred. value:   99.508% (13348 of 13414)\n",
            "Class 27:\n",
            "    Sensitivity (TPR):   0.000% (0 of 101)\n",
            "    Specificity (TNR): 100.000% (13313 of 13313)\n",
            "    Precision:             nan% (0 of 0)\n",
            "    Neg. pred. value:   99.247% (13313 of 13414)\n",
            "Class 28:\n",
            "    Sensitivity (TPR):   0.000% (0 of 240)\n",
            "    Specificity (TNR): 100.000% (13174 of 13174)\n",
            "    Precision:             nan% (0 of 0)\n",
            "    Neg. pred. value:   98.211% (13174 of 13414)\n",
            "Class 29:\n",
            "    Sensitivity (TPR):   0.000% (0 of 39)\n",
            "    Specificity (TNR): 100.000% (13375 of 13375)\n",
            "    Precision:             nan% (0 of 0)\n",
            "    Neg. pred. value:   99.709% (13375 of 13414)\n",
            "Class 30:\n",
            "    Sensitivity (TPR):   0.000% (0 of 258)\n",
            "    Specificity (TNR): 100.000% (13156 of 13156)\n",
            "    Precision:             nan% (0 of 0)\n",
            "    Neg. pred. value:   98.077% (13156 of 13414)\n",
            "Class 31:\n",
            "    Sensitivity (TPR):   0.000% (0 of 34)\n",
            "    Specificity (TNR): 100.000% (13380 of 13380)\n",
            "    Precision:             nan% (0 of 0)\n",
            "    Neg. pred. value:   99.747% (13380 of 13414)\n",
            "Class 32:\n",
            "    Sensitivity (TPR):   0.000% (0 of 3)\n",
            "    Specificity (TNR): 100.000% (13411 of 13411)\n",
            "    Precision:             nan% (0 of 0)\n",
            "    Neg. pred. value:   99.978% (13411 of 13414)\n",
            "Class 33:\n",
            "    Sensitivity (TPR):   0.000% (0 of 10)\n",
            "    Specificity (TNR): 100.000% (13404 of 13404)\n",
            "    Precision:             nan% (0 of 0)\n",
            "    Neg. pred. value:   99.925% (13404 of 13414)\n",
            "Class 34:\n",
            "    Sensitivity (TPR):   0.000% (0 of 2)\n",
            "    Specificity (TNR): 100.000% (13412 of 13412)\n",
            "    Precision:             nan% (0 of 0)\n",
            "    Neg. pred. value:   99.985% (13412 of 13414)\n",
            "Class 35:\n",
            "    Sensitivity (TPR):   0.000% (0 of 287)\n",
            "    Specificity (TNR): 100.000% (13127 of 13127)\n",
            "    Precision:             nan% (0 of 0)\n",
            "    Neg. pred. value:   97.860% (13127 of 13414)\n",
            "Class 36:\n",
            "    Sensitivity (TPR):   0.000% (0 of 406)\n",
            "    Specificity (TNR): 100.000% (13008 of 13008)\n",
            "    Precision:             nan% (0 of 0)\n",
            "    Neg. pred. value:   96.973% (13008 of 13414)\n",
            "Class 37:\n",
            "    Sensitivity (TPR):   0.000% (0 of 46)\n",
            "    Specificity (TNR): 100.000% (13368 of 13368)\n",
            "    Precision:             nan% (0 of 0)\n",
            "    Neg. pred. value:   99.657% (13368 of 13414)\n",
            "Class 38:\n",
            "    Sensitivity (TPR):   0.000% (0 of 37)\n",
            "    Specificity (TNR): 100.000% (13377 of 13377)\n",
            "    Precision:             nan% (0 of 0)\n",
            "    Neg. pred. value:   99.724% (13377 of 13414)\n",
            "Class 39:\n",
            "    Sensitivity (TPR):   0.000% (0 of 108)\n",
            "    Specificity (TNR): 100.000% (13306 of 13306)\n",
            "    Precision:             nan% (0 of 0)\n",
            "    Neg. pred. value:   99.195% (13306 of 13414)\n",
            "Class 40:\n",
            "    Sensitivity (TPR):   0.000% (0 of 24)\n",
            "    Specificity (TNR): 100.000% (13390 of 13390)\n",
            "    Precision:             nan% (0 of 0)\n",
            "    Neg. pred. value:   99.821% (13390 of 13414)\n",
            "Class 41:\n",
            "    Sensitivity (TPR):   0.000% (0 of 7)\n",
            "    Specificity (TNR): 100.000% (13407 of 13407)\n",
            "    Precision:             nan% (0 of 0)\n",
            "    Neg. pred. value:   99.948% (13407 of 13414)\n",
            "Class 42:\n",
            "    Sensitivity (TPR):   0.000% (0 of 86)\n",
            "    Specificity (TNR): 100.000% (13328 of 13328)\n",
            "    Precision:             nan% (0 of 0)\n",
            "    Neg. pred. value:   99.359% (13328 of 13414)\n",
            "Class 43:\n",
            "    Sensitivity (TPR):   0.000% (0 of 23)\n",
            "    Specificity (TNR): 100.000% (13391 of 13391)\n",
            "    Precision:             nan% (0 of 0)\n",
            "    Neg. pred. value:   99.829% (13391 of 13414)\n",
            "Class 44:\n",
            "    Sensitivity (TPR):   0.000% (0 of 804)\n",
            "    Specificity (TNR): 100.000% (12610 of 12610)\n",
            "    Precision:             nan% (0 of 0)\n",
            "    Neg. pred. value:   94.006% (12610 of 13414)\n",
            "Class 45:\n",
            "    Sensitivity (TPR):   0.000% (0 of 20)\n",
            "    Specificity (TNR): 100.000% (13394 of 13394)\n",
            "    Precision:             nan% (0 of 0)\n",
            "    Neg. pred. value:   99.851% (13394 of 13414)\n",
            "Class 46:\n",
            "    Sensitivity (TPR):   0.000% (0 of 23)\n",
            "    Specificity (TNR): 100.000% (13391 of 13391)\n",
            "    Precision:             nan% (0 of 0)\n",
            "    Neg. pred. value:   99.829% (13391 of 13414)\n",
            "Class 47:\n",
            "    Sensitivity (TPR):   0.000% (0 of 529)\n",
            "    Specificity (TNR): 100.000% (12885 of 12885)\n",
            "    Precision:             nan% (0 of 0)\n",
            "    Neg. pred. value:   96.056% (12885 of 13414)\n",
            "Class 48:\n",
            "    Sensitivity (TPR):   0.000% (0 of 374)\n",
            "    Specificity (TNR): 100.000% (13040 of 13040)\n",
            "    Precision:             nan% (0 of 0)\n",
            "    Neg. pred. value:   97.212% (13040 of 13414)\n",
            "Class 49:\n",
            "    Sensitivity (TPR):   0.000% (0 of 84)\n",
            "    Specificity (TNR): 100.000% (13330 of 13330)\n",
            "    Precision:             nan% (0 of 0)\n",
            "    Neg. pred. value:   99.374% (13330 of 13414)\n",
            "Class 50:\n",
            "    Sensitivity (TPR):   0.000% (0 of 18)\n",
            "    Specificity (TNR): 100.000% (13396 of 13396)\n",
            "    Precision:             nan% (0 of 0)\n",
            "    Neg. pred. value:   99.866% (13396 of 13414)\n",
            "Class 51:\n",
            "    Sensitivity (TPR):   0.000% (0 of 556)\n",
            "    Specificity (TNR): 100.000% (12858 of 12858)\n",
            "    Precision:             nan% (0 of 0)\n",
            "    Neg. pred. value:   95.855% (12858 of 13414)\n",
            "Class 52:\n",
            "    Sensitivity (TPR):   0.000% (0 of 28)\n",
            "    Specificity (TNR): 100.000% (13386 of 13386)\n",
            "    Precision:             nan% (0 of 0)\n",
            "    Neg. pred. value:   99.791% (13386 of 13414)\n",
            "Class 53:\n",
            "    Sensitivity (TPR):   0.000% (0 of 13)\n",
            "    Specificity (TNR): 100.000% (13401 of 13401)\n",
            "    Precision:             nan% (0 of 0)\n",
            "    Neg. pred. value:   99.903% (13401 of 13414)\n",
            "Class 54:\n",
            "    Sensitivity (TPR):   0.000% (0 of 2)\n",
            "    Specificity (TNR): 100.000% (13412 of 13412)\n",
            "    Precision:             nan% (0 of 0)\n",
            "    Neg. pred. value:   99.985% (13412 of 13414)\n",
            "Class 55:\n",
            "    Sensitivity (TPR):   0.000% (0 of 342)\n",
            "    Specificity (TNR): 100.000% (13072 of 13072)\n",
            "    Precision:             nan% (0 of 0)\n",
            "    Neg. pred. value:   97.450% (13072 of 13414)\n",
            "Class 56:\n",
            "    Sensitivity (TPR):   0.000% (0 of 6)\n",
            "    Specificity (TNR): 100.000% (13408 of 13408)\n",
            "    Precision:             nan% (0 of 0)\n",
            "    Neg. pred. value:   99.955% (13408 of 13414)\n",
            "Class 57:\n",
            "    Sensitivity (TPR):   0.000% (0 of 47)\n",
            "    Specificity (TNR): 100.000% (13367 of 13367)\n",
            "    Precision:             nan% (0 of 0)\n",
            "    Neg. pred. value:   99.650% (13367 of 13414)\n",
            "Class 58:\n",
            "    Sensitivity (TPR):   0.000% (0 of 394)\n",
            "    Specificity (TNR): 100.000% (13020 of 13020)\n",
            "    Precision:             nan% (0 of 0)\n",
            "    Neg. pred. value:   97.063% (13020 of 13414)\n",
            "Class 59:\n",
            "    Sensitivity (TPR):   0.000% (0 of 306)\n",
            "    Specificity (TNR): 100.000% (13108 of 13108)\n",
            "    Precision:             nan% (0 of 0)\n",
            "    Neg. pred. value:   97.719% (13108 of 13414)\n",
            "Class 60:\n",
            "    Sensitivity (TPR):   0.000% (0 of 44)\n",
            "    Specificity (TNR): 100.000% (13370 of 13370)\n",
            "    Precision:             nan% (0 of 0)\n",
            "    Neg. pred. value:   99.672% (13370 of 13414)\n",
            "Class 61:\n",
            "    Sensitivity (TPR):   0.000% (0 of 507)\n",
            "    Specificity (TNR): 100.000% (12907 of 12907)\n",
            "    Precision:             nan% (0 of 0)\n",
            "    Neg. pred. value:   96.220% (12907 of 13414)\n",
            "Class 62:\n",
            "    Sensitivity (TPR):   0.000% (0 of 318)\n",
            "    Specificity (TNR): 100.000% (13096 of 13096)\n",
            "    Precision:             nan% (0 of 0)\n",
            "    Neg. pred. value:   97.629% (13096 of 13414)\n",
            "Class 63:\n",
            "    Sensitivity (TPR):   0.000% (0 of 154)\n",
            "    Specificity (TNR): 100.000% (13260 of 13260)\n",
            "    Precision:             nan% (0 of 0)\n",
            "    Neg. pred. value:   98.852% (13260 of 13414)\n",
            "Class 64:\n",
            "    Sensitivity (TPR):   0.000% (0 of 138)\n",
            "    Specificity (TNR): 100.000% (13276 of 13276)\n",
            "    Precision:             nan% (0 of 0)\n",
            "    Neg. pred. value:   98.971% (13276 of 13414)\n",
            "Class 65:\n",
            "    Sensitivity (TPR):   0.000% (0 of 420)\n",
            "    Specificity (TNR): 100.000% (12994 of 12994)\n",
            "    Precision:             nan% (0 of 0)\n",
            "    Neg. pred. value:   96.869% (12994 of 13414)\n",
            "Class 66:\n",
            "    Sensitivity (TPR):     nan% (0 of 0)\n",
            "    Specificity (TNR): 100.000% (13414 of 13414)\n",
            "    Precision:             nan% (0 of 0)\n",
            "    Neg. pred. value:  100.000% (13414 of 13414)\n",
            "\n",
            "Overall accuracy:    0.365% (49 of 13414)\n",
            "Balanced accuracy:   1.587%\n"
          ]
        },
        {
          "output_type": "stream",
          "name": "stderr",
          "text": [
            "/usr/local/lib/python3.7/dist-packages/ipykernel_launcher.py:35: RuntimeWarning: invalid value encountered in double_scalars\n",
            "/usr/local/lib/python3.7/dist-packages/ipykernel_launcher.py:30: RuntimeWarning: invalid value encountered in long_scalars\n",
            "/usr/local/lib/python3.7/dist-packages/ipykernel_launcher.py:28: RuntimeWarning: invalid value encountered in long_scalars\n"
          ]
        }
      ]
    },
    {
      "cell_type": "code",
      "metadata": {
        "id": "LcWd5q2ku4aJ"
      },
      "source": [
        "model2.save('/content/drive/My Drive/Colab Notebooks/' + 'model2.hdf5')"
      ],
      "execution_count": null,
      "outputs": []
    },
    {
      "cell_type": "markdown",
      "metadata": {
        "id": "arBBPcqWv877"
      },
      "source": [
        "# Try InceptionResNetV2"
      ]
    },
    {
      "cell_type": "code",
      "metadata": {
        "colab": {
          "base_uri": "https://localhost:8080/"
        },
        "id": "NXRLoR7aNNUG",
        "outputId": "5b003119-3164-4eae-c168-b2673159aad7"
      },
      "source": [
        "ImageFile.LOAD_TRUNCATED_IMAGES = True\n",
        "\n",
        "inceptionresnetv2 = tf.keras.applications.InceptionResNetV2(weights='imagenet')\n",
        "inceptionresnetv2_train_data = ImageDataGenerator(rotation_range=20, width_shift_range=0.2,  \n",
        "                  height_shift_range=0.2, shear_range=0.2, horizontal_flip=True, zoom_range=0.2,\n",
        "                  preprocessing_function=tf.keras.applications.inception_resnet_v2.preprocess_input)\n",
        "inceptionresnetv2_val_data = ImageDataGenerator(preprocessing_function=tf.keras.applications.inception_resnet_v2.preprocess_input)\n",
        "\n",
        "train_generator = inceptionresnetv2_train_data.flow_from_directory(train_data_dir, batch_size=32, target_size=(299,299))\n",
        "val_generator = inceptionresnetv2_val_data.flow_from_directory(validation_data_dir, batch_size=32, target_size=(299,299))\n",
        "test_generator =  inceptionresnetv2_val_data.flow_from_directory(test_data_dir, batch_size=32, target_size=(299,299))\n",
        "\n",
        "headless_inceptionresnetv2 = tf.keras.Model(inputs=[inceptionresnetv2.input], outputs=[inceptionresnetv2.get_layer('avg_pool').output])\n",
        "\n",
        "model3 = tf.keras.models.Sequential([headless_inceptionresnetv2,\n",
        "                                     tf.keras.layers.BatchNormalization(),\n",
        "                                     tf.keras.layers.Dropout(0.5),\n",
        "                                     tf.keras.layers.Dense(len(all_classes), activation='softmax')])\n",
        "\n",
        "model3.summary()"
      ],
      "execution_count": 14,
      "outputs": [
        {
          "output_type": "stream",
          "name": "stdout",
          "text": [
            "Downloading data from https://storage.googleapis.com/tensorflow/keras-applications/inception_resnet_v2/inception_resnet_v2_weights_tf_dim_ordering_tf_kernels.h5\n",
            "225214464/225209952 [==============================] - 3s 0us/step\n",
            "225222656/225209952 [==============================] - 3s 0us/step\n",
            "Found 40287 images belonging to 67 classes.\n",
            "Found 13413 images belonging to 67 classes.\n",
            "Found 13414 images belonging to 67 classes.\n",
            "Model: \"sequential\"\n",
            "_________________________________________________________________\n",
            " Layer (type)                Output Shape              Param #   \n",
            "=================================================================\n",
            " model (Functional)          (None, 1536)              54336736  \n",
            "                                                                 \n",
            " batch_normalization_203 (Ba  (None, 1536)             6144      \n",
            " tchNormalization)                                               \n",
            "                                                                 \n",
            " dropout (Dropout)           (None, 1536)              0         \n",
            "                                                                 \n",
            " dense (Dense)               (None, 67)                102979    \n",
            "                                                                 \n",
            "=================================================================\n",
            "Total params: 54,445,859\n",
            "Trainable params: 54,382,243\n",
            "Non-trainable params: 63,616\n",
            "_________________________________________________________________\n"
          ]
        }
      ]
    },
    {
      "cell_type": "code",
      "metadata": {
        "id": "zglM-Cl0PI4R"
      },
      "source": [
        "model3.compile(optimizer=tf.keras.optimizers.SGD(0.01), loss='categorical_crossentropy', metrics=['accuracy'])\n",
        "history = model3.fit(train_generator, \n",
        "                     steps_per_epoch=(len(train_generator.filenames) // batch_size), \n",
        "                     validation_data=val_generator, validation_steps=(len(val_generator.filenames) // batch_size),\n",
        "                     epochs=20, max_queue_size=10, verbose=1,\n",
        "                     callbacks=callbacks_list)\n",
        "# stopped by Colab during Epoch 9 - accuracy 41.51 %"
      ],
      "execution_count": null,
      "outputs": []
    },
    {
      "cell_type": "markdown",
      "metadata": {
        "id": "zykYU1ok4kR5"
      },
      "source": [
        "## Continue training\n",
        "Unfortunately Colab kicks you out of the session after a certain time. Therefore we load the best model here and continue training where we left before saving the model"
      ]
    },
    {
      "cell_type": "code",
      "metadata": {
        "id": "5k1t6H5t41f0",
        "colab": {
          "base_uri": "https://localhost:8080/"
        },
        "outputId": "495545df-66e9-44c2-bcb5-548d55442aee"
      },
      "source": [
        "filepath = '/content/drive/My Drive/Colab Notebooks/models/project_{epoch:02d}-{val_accuracy:.4f}.hdf5'\n",
        "callbacks_list = [tf.keras.callbacks.ModelCheckpoint(filepath, monitor='val_accuracy', verbose=1, save_best_only=True, mode='max')]\n",
        "batch_size = 64\n",
        "loaded_model = tf.keras.models.load_model('/content/drive/My Drive/Colab Notebooks/models/project_05-0.4151.hdf5')\n",
        "history = loaded_model.fit(train_generator, \n",
        "                           steps_per_epoch=(len(train_generator.filenames) // batch_size), \n",
        "                           validation_data=val_generator, validation_steps=(len(val_generator.filenames) // batch_size),\n",
        "                           epochs=10, max_queue_size=10, verbose=1,\n",
        "                           callbacks=callbacks_list)"
      ],
      "execution_count": 16,
      "outputs": [
        {
          "output_type": "stream",
          "name": "stdout",
          "text": [
            "Epoch 1/10\n",
            "629/629 [==============================] - ETA: 0s - loss: 2.4497 - accuracy: 0.3916\n",
            "Epoch 00001: val_accuracy improved from -inf to 0.42943, saving model to /content/drive/My Drive/Colab Notebooks/models/project_01-0.4294.hdf5\n",
            "629/629 [==============================] - 1764s 3s/step - loss: 2.4497 - accuracy: 0.3916 - val_loss: 2.0665 - val_accuracy: 0.4294\n",
            "Epoch 2/10\n",
            "629/629 [==============================] - ETA: 0s - loss: 2.3564 - accuracy: 0.4040\n",
            "Epoch 00002: val_accuracy did not improve from 0.42943\n",
            "629/629 [==============================] - 1724s 3s/step - loss: 2.3564 - accuracy: 0.4040 - val_loss: 6.5491 - val_accuracy: 0.3837\n",
            "Epoch 3/10\n",
            "629/629 [==============================] - ETA: 0s - loss: 2.4272 - accuracy: 0.3886\n",
            "Epoch 00003: val_accuracy did not improve from 0.42943\n",
            "629/629 [==============================] - 1723s 3s/step - loss: 2.4272 - accuracy: 0.3886 - val_loss: 4.8881 - val_accuracy: 0.3891\n",
            "Epoch 4/10\n",
            "629/629 [==============================] - ETA: 0s - loss: 2.2560 - accuracy: 0.4146\n",
            "Epoch 00004: val_accuracy did not improve from 0.42943\n",
            "629/629 [==============================] - 1720s 3s/step - loss: 2.2560 - accuracy: 0.4146 - val_loss: 8.5949 - val_accuracy: 0.4098\n",
            "Epoch 5/10\n",
            "629/629 [==============================] - ETA: 0s - loss: 2.4347 - accuracy: 0.3933\n",
            "Epoch 00005: val_accuracy did not improve from 0.42943\n",
            "629/629 [==============================] - 1721s 3s/step - loss: 2.4347 - accuracy: 0.3933 - val_loss: 2.3948 - val_accuracy: 0.4109\n",
            "Epoch 6/10\n",
            "629/629 [==============================] - ETA: 0s - loss: 2.2931 - accuracy: 0.4195\n",
            "Epoch 00006: val_accuracy did not improve from 0.42943\n",
            "629/629 [==============================] - 1725s 3s/step - loss: 2.2931 - accuracy: 0.4195 - val_loss: 3.3662 - val_accuracy: 0.4227\n",
            "Epoch 7/10\n",
            "629/629 [==============================] - ETA: 0s - loss: 2.2742 - accuracy: 0.4254\n",
            "Epoch 00007: val_accuracy did not improve from 0.42943\n",
            "629/629 [==============================] - 1732s 3s/step - loss: 2.2742 - accuracy: 0.4254 - val_loss: 3.8799 - val_accuracy: 0.4217\n",
            "Epoch 8/10\n",
            "629/629 [==============================] - ETA: 0s - loss: 2.1595 - accuracy: 0.4362\n",
            "Epoch 00008: val_accuracy improved from 0.42943 to 0.46247, saving model to /content/drive/My Drive/Colab Notebooks/models/project_08-0.4625.hdf5\n",
            "629/629 [==============================] - 1726s 3s/step - loss: 2.1595 - accuracy: 0.4362 - val_loss: 2.0644 - val_accuracy: 0.4625\n",
            "Epoch 9/10\n",
            "629/629 [==============================] - ETA: 0s - loss: 2.0694 - accuracy: 0.4517\n",
            "Epoch 00009: val_accuracy did not improve from 0.46247\n",
            "629/629 [==============================] - 1720s 3s/step - loss: 2.0694 - accuracy: 0.4517 - val_loss: 2.0058 - val_accuracy: 0.4285\n",
            "Epoch 10/10\n",
            "629/629 [==============================] - ETA: 0s - loss: 2.0373 - accuracy: 0.4557\n",
            "Epoch 00010: val_accuracy did not improve from 0.46247\n",
            "629/629 [==============================] - 1720s 3s/step - loss: 2.0373 - accuracy: 0.4557 - val_loss: 1.9663 - val_accuracy: 0.4607\n"
          ]
        }
      ]
    },
    {
      "cell_type": "code",
      "metadata": {
        "colab": {
          "base_uri": "https://localhost:8080/",
          "height": 791
        },
        "id": "NMypnUfWvEaf",
        "outputId": "cc51c2cf-6bd5-45b2-b55b-c1c5a0d5825b"
      },
      "source": [
        "plot_history(history)"
      ],
      "execution_count": 17,
      "outputs": [
        {
          "output_type": "display_data",
          "data": {
            "image/png": "[encoded data removed]",
            "text/plain": [
              "<Figure size 576x432 with 1 Axes>"
            ]
          },
          "metadata": {
            "needs_background": "light"
          }
        },
        {
          "output_type": "display_data",
          "data": {
            "image/png": "[encoded data removed]",
            "text/plain": [
              "<Figure size 576x432 with 1 Axes>"
            ]
          },
          "metadata": {
            "needs_background": "light"
          }
        }
      ]
    },
    {
      "cell_type": "code",
      "metadata": {
        "id": "MjlkVQeGylFe"
      },
      "source": [
        "loaded_model.save('/content/drive/My Drive/Colab Notebooks/' + 'model3.hdf5')"
      ],
      "execution_count": null,
      "outputs": []
    },
    {
      "cell_type": "markdown",
      "metadata": {
        "id": "n_LRL149UaF_"
      },
      "source": [
        "## Evaluate on Test Data (best model)\n",
        "\n",
        "---\n",
        "\n"
      ]
    },
    {
      "cell_type": "code",
      "metadata": {
        "id": "0euPqgULUk67",
        "colab": {
          "base_uri": "https://localhost:8080/"
        },
        "outputId": "74948722-351d-4771-b0e1-071a858002ff"
      },
      "source": [
        "best_model = tf.keras.models.load_model('/content/drive/My Drive/Colab Notebooks/models/project_08-0.4625.hdf5')\n",
        "pred = best_model.predict(test_generator, steps=len(test_generator.filenames))\n",
        "pred"
      ],
      "execution_count": 18,
      "outputs": [
        {
          "output_type": "execute_result",
          "data": {
            "text/plain": [
              "array([[2.78314506e-03, 3.02484049e-03, 9.11091571e-04, ...,\n",
              "        1.58119670e-04, 1.76716159e-04, 8.42000183e-04],\n",
              "       [1.87429134e-03, 6.97312783e-03, 1.08222908e-03, ...,\n",
              "        5.33409882e-04, 3.84604884e-03, 6.15869241e-04],\n",
              "       [3.54996482e-05, 1.59655756e-04, 5.21197333e-04, ...,\n",
              "        1.31566415e-03, 1.58071689e-05, 4.26127430e-04],\n",
              "       ...,\n",
              "       [9.70353954e-04, 5.01374539e-04, 1.40075135e-04, ...,\n",
              "        1.39958761e-03, 1.04140476e-04, 2.37158863e-04],\n",
              "       [1.77249385e-04, 7.61757325e-03, 7.04535609e-03, ...,\n",
              "        3.35446792e-03, 5.01991366e-04, 5.03418094e-04],\n",
              "       [7.84604272e-05, 3.83374427e-04, 3.06020112e-04, ...,\n",
              "        9.16637728e-05, 8.35858737e-05, 1.85106779e-04]], dtype=float32)"
            ]
          },
          "metadata": {},
          "execution_count": 18
        }
      ]
    },
    {
      "cell_type": "code",
      "metadata": {
        "id": "K8xDEt54Ungx",
        "colab": {
          "base_uri": "https://localhost:8080/"
        },
        "outputId": "c81afaaa-40d3-466b-9f33-fa0df419aa2d"
      },
      "source": [
        "evaluate_result(test_generator.classes, pred)"
      ],
      "execution_count": 19,
      "outputs": [
        {
          "output_type": "stream",
          "name": "stdout",
          "text": [
            "[[ 0  0  0 ...  0  2  0]\n",
            " [ 1  0  0 ...  2 13  0]\n",
            " [ 0  0  0 ...  0  5  0]\n",
            " ...\n",
            " [ 0  0  0 ...  1  8  0]\n",
            " [ 1  0  0 ...  3 27  0]\n",
            " [ 0  0  0 ...  0  0  0]]\n",
            "\n",
            "\n",
            "Class 0:\n",
            "    Sensitivity (TPR):   0.000% (0 of 49)\n",
            "    Specificity (TNR):  99.641% (13317 of 13365)\n",
            "    Precision:           0.000% (0 of 48)\n",
            "    Neg. pred. value:   99.633% (13317 of 13366)\n",
            "Class 1:\n",
            "    Sensitivity (TPR):   0.000% (0 of 199)\n",
            "    Specificity (TNR):  99.750% (13182 of 13215)\n",
            "    Precision:           0.000% (0 of 33)\n",
            "    Neg. pred. value:   98.513% (13182 of 13381)\n",
            "Class 2:\n",
            "    Sensitivity (TPR):   0.000% (0 of 35)\n",
            "    Specificity (TNR): 100.000% (13379 of 13379)\n",
            "    Precision:             nan% (0 of 0)\n",
            "    Neg. pred. value:   99.739% (13379 of 13414)\n",
            "Class 3:\n",
            "    Sensitivity (TPR):   6.329% (50 of 790)\n",
            "    Specificity (TNR):  92.696% (11702 of 12624)\n",
            "    Precision:           5.144% (50 of 972)\n",
            "    Neg. pred. value:   94.052% (11702 of 12442)\n",
            "Class 4:\n",
            "    Sensitivity (TPR):   0.000% (0 of 4)\n",
            "    Specificity (TNR): 100.000% (13410 of 13410)\n",
            "    Precision:             nan% (0 of 0)\n",
            "    Neg. pred. value:   99.970% (13410 of 13414)\n",
            "Class 5:\n",
            "    Sensitivity (TPR):   0.000% (0 of 19)\n",
            "    Specificity (TNR): 100.000% (13395 of 13395)\n",
            "    Precision:             nan% (0 of 0)\n",
            "    Neg. pred. value:   99.858% (13395 of 13414)\n",
            "Class 6:\n",
            "    Sensitivity (TPR):   0.000% (0 of 45)\n",
            "    Specificity (TNR):  99.993% (13368 of 13369)\n",
            "    Precision:           0.000% (0 of 1)\n",
            "    Neg. pred. value:   99.665% (13368 of 13413)\n",
            "Class 7:\n",
            "    Sensitivity (TPR):   3.500% (14 of 400)\n",
            "    Specificity (TNR):  96.335% (12537 of 13014)\n",
            "    Precision:           2.851% (14 of 491)\n",
            "    Neg. pred. value:   97.013% (12537 of 12923)\n",
            "Class 8:\n",
            "    Sensitivity (TPR):   0.000% (0 of 51)\n",
            "    Specificity (TNR): 100.000% (13363 of 13363)\n",
            "    Precision:             nan% (0 of 0)\n",
            "    Neg. pred. value:   99.620% (13363 of 13414)\n",
            "Class 9:\n",
            "    Sensitivity (TPR):   2.744% (9 of 328)\n",
            "    Specificity (TNR):  97.455% (12753 of 13086)\n",
            "    Precision:           2.632% (9 of 342)\n",
            "    Neg. pred. value:   97.560% (12753 of 13072)\n",
            "Class 10:\n",
            "    Sensitivity (TPR):   0.000% (0 of 111)\n",
            "    Specificity (TNR):  99.188% (13195 of 13303)\n",
            "    Precision:           0.000% (0 of 108)\n",
            "    Neg. pred. value:   99.166% (13195 of 13306)\n",
            "Class 11:\n",
            "    Sensitivity (TPR):   0.000% (0 of 68)\n",
            "    Specificity (TNR):  99.730% (13310 of 13346)\n",
            "    Precision:           0.000% (0 of 36)\n",
            "    Neg. pred. value:   99.492% (13310 of 13378)\n",
            "Class 12:\n",
            "    Sensitivity (TPR):     nan% (0 of 0)\n",
            "    Specificity (TNR): 100.000% (13414 of 13414)\n",
            "    Precision:             nan% (0 of 0)\n",
            "    Neg. pred. value:  100.000% (13414 of 13414)\n",
            "Class 13:\n",
            "    Sensitivity (TPR):   5.140% (35 of 681)\n",
            "    Specificity (TNR):  93.474% (11902 of 12733)\n",
            "    Precision:           4.042% (35 of 866)\n",
            "    Neg. pred. value:   94.852% (11902 of 12548)\n",
            "Class 14:\n",
            "    Sensitivity (TPR):     nan% (0 of 0)\n",
            "    Specificity (TNR): 100.000% (13414 of 13414)\n",
            "    Precision:             nan% (0 of 0)\n",
            "    Neg. pred. value:  100.000% (13414 of 13414)\n",
            "Class 15:\n",
            "    Sensitivity (TPR):   0.000% (0 of 10)\n",
            "    Specificity (TNR): 100.000% (13404 of 13404)\n",
            "    Precision:             nan% (0 of 0)\n",
            "    Neg. pred. value:   99.925% (13404 of 13414)\n",
            "Class 16:\n",
            "    Sensitivity (TPR):   0.000% (0 of 9)\n",
            "    Specificity (TNR): 100.000% (13405 of 13405)\n",
            "    Precision:             nan% (0 of 0)\n",
            "    Neg. pred. value:   99.933% (13405 of 13414)\n",
            "Class 17:\n",
            "    Sensitivity (TPR):     nan% (0 of 0)\n",
            "    Specificity (TNR): 100.000% (13414 of 13414)\n",
            "    Precision:             nan% (0 of 0)\n",
            "    Neg. pred. value:  100.000% (13414 of 13414)\n",
            "Class 18:\n",
            "    Sensitivity (TPR):   3.030% (1 of 33)\n",
            "    Specificity (TNR):  99.783% (13352 of 13381)\n",
            "    Precision:           3.333% (1 of 30)\n",
            "    Neg. pred. value:   99.761% (13352 of 13384)\n",
            "Class 19:\n",
            "    Sensitivity (TPR):   0.000% (0 of 3)\n",
            "    Specificity (TNR): 100.000% (13411 of 13411)\n",
            "    Precision:             nan% (0 of 0)\n",
            "    Neg. pred. value:   99.978% (13411 of 13414)\n",
            "Class 20:\n",
            "    Sensitivity (TPR):   0.000% (0 of 21)\n",
            "    Specificity (TNR):  99.963% (13388 of 13393)\n",
            "    Precision:           0.000% (0 of 5)\n",
            "    Neg. pred. value:   99.843% (13388 of 13409)\n",
            "Class 21:\n",
            "    Sensitivity (TPR):   3.349% (21 of 627)\n",
            "    Specificity (TNR):  95.159% (12168 of 12787)\n",
            "    Precision:           3.281% (21 of 640)\n",
            "    Neg. pred. value:   95.256% (12168 of 12774)\n",
            "Class 22:\n",
            "    Sensitivity (TPR):   6.000% (39 of 650)\n",
            "    Specificity (TNR):  94.798% (12100 of 12764)\n",
            "    Precision:           5.548% (39 of 703)\n",
            "    Neg. pred. value:   95.193% (12100 of 12711)\n",
            "Class 23:\n",
            "    Sensitivity (TPR):   7.564% (59 of 780)\n",
            "    Specificity (TNR):  92.196% (11648 of 12634)\n",
            "    Precision:           5.646% (59 of 1045)\n",
            "    Neg. pred. value:   94.171% (11648 of 12369)\n",
            "Class 24:\n",
            "    Sensitivity (TPR):   3.942% (30 of 761)\n",
            "    Specificity (TNR):  96.293% (12184 of 12653)\n",
            "    Precision:           6.012% (30 of 499)\n",
            "    Neg. pred. value:   94.340% (12184 of 12915)\n",
            "Class 25:\n",
            "    Sensitivity (TPR):   3.828% (32 of 836)\n",
            "    Specificity (TNR):  96.478% (12135 of 12578)\n",
            "    Precision:           6.737% (32 of 475)\n",
            "    Neg. pred. value:   93.786% (12135 of 12939)\n",
            "Class 26:\n",
            "    Sensitivity (TPR):   0.000% (0 of 66)\n",
            "    Specificity (TNR):  99.858% (13329 of 13348)\n",
            "    Precision:           0.000% (0 of 19)\n",
            "    Neg. pred. value:   99.507% (13329 of 13395)\n",
            "Class 27:\n",
            "    Sensitivity (TPR):   0.000% (0 of 101)\n",
            "    Specificity (TNR):  99.857% (13294 of 13313)\n",
            "    Precision:           0.000% (0 of 19)\n",
            "    Neg. pred. value:   99.246% (13294 of 13395)\n",
            "Class 28:\n",
            "    Sensitivity (TPR):   0.417% (1 of 240)\n",
            "    Specificity (TNR):  99.514% (13110 of 13174)\n",
            "    Precision:           1.538% (1 of 65)\n",
            "    Neg. pred. value:   98.210% (13110 of 13349)\n",
            "Class 29:\n",
            "    Sensitivity (TPR):   0.000% (0 of 39)\n",
            "    Specificity (TNR):  99.910% (13363 of 13375)\n",
            "    Precision:           0.000% (0 of 12)\n",
            "    Neg. pred. value:   99.709% (13363 of 13402)\n",
            "Class 30:\n",
            "    Sensitivity (TPR):   3.101% (8 of 258)\n",
            "    Specificity (TNR):  96.975% (12758 of 13156)\n",
            "    Precision:           1.970% (8 of 406)\n",
            "    Neg. pred. value:   98.078% (12758 of 13008)\n",
            "Class 31:\n",
            "    Sensitivity (TPR):   0.000% (0 of 34)\n",
            "    Specificity (TNR): 100.000% (13380 of 13380)\n",
            "    Precision:             nan% (0 of 0)\n",
            "    Neg. pred. value:   99.747% (13380 of 13414)\n",
            "Class 32:\n",
            "    Sensitivity (TPR):   0.000% (0 of 3)\n",
            "    Specificity (TNR): 100.000% (13411 of 13411)\n",
            "    Precision:             nan% (0 of 0)\n",
            "    Neg. pred. value:   99.978% (13411 of 13414)\n",
            "Class 33:\n",
            "    Sensitivity (TPR):   0.000% (0 of 10)\n",
            "    Specificity (TNR): 100.000% (13404 of 13404)\n",
            "    Precision:             nan% (0 of 0)\n",
            "    Neg. pred. value:   99.925% (13404 of 13414)\n",
            "Class 34:\n",
            "    Sensitivity (TPR):   0.000% (0 of 2)\n",
            "    Specificity (TNR): 100.000% (13412 of 13412)\n",
            "    Precision:             nan% (0 of 0)\n",
            "    Neg. pred. value:   99.985% (13412 of 13414)\n",
            "Class 35:\n",
            "    Sensitivity (TPR):   1.394% (4 of 287)\n",
            "    Specificity (TNR):  98.766% (12965 of 13127)\n",
            "    Precision:           2.410% (4 of 166)\n",
            "    Neg. pred. value:   97.864% (12965 of 13248)\n",
            "Class 36:\n",
            "    Sensitivity (TPR):   1.478% (6 of 406)\n",
            "    Specificity (TNR):  97.909% (12736 of 13008)\n",
            "    Precision:           2.158% (6 of 278)\n",
            "    Neg. pred. value:   96.955% (12736 of 13136)\n",
            "Class 37:\n",
            "    Sensitivity (TPR):   0.000% (0 of 46)\n",
            "    Specificity (TNR): 100.000% (13368 of 13368)\n",
            "    Precision:             nan% (0 of 0)\n",
            "    Neg. pred. value:   99.657% (13368 of 13414)\n",
            "Class 38:\n",
            "    Sensitivity (TPR):   0.000% (0 of 37)\n",
            "    Specificity (TNR):  99.970% (13373 of 13377)\n",
            "    Precision:           0.000% (0 of 4)\n",
            "    Neg. pred. value:   99.724% (13373 of 13410)\n",
            "Class 39:\n",
            "    Sensitivity (TPR):   0.000% (0 of 108)\n",
            "    Specificity (TNR):  99.692% (13265 of 13306)\n",
            "    Precision:           0.000% (0 of 41)\n",
            "    Neg. pred. value:   99.192% (13265 of 13373)\n",
            "Class 40:\n",
            "    Sensitivity (TPR):   0.000% (0 of 24)\n",
            "    Specificity (TNR): 100.000% (13390 of 13390)\n",
            "    Precision:             nan% (0 of 0)\n",
            "    Neg. pred. value:   99.821% (13390 of 13414)\n",
            "Class 41:\n",
            "    Sensitivity (TPR):   0.000% (0 of 7)\n",
            "    Specificity (TNR): 100.000% (13407 of 13407)\n",
            "    Precision:             nan% (0 of 0)\n",
            "    Neg. pred. value:   99.948% (13407 of 13414)\n",
            "Class 42:\n",
            "    Sensitivity (TPR):   0.000% (0 of 86)\n",
            "    Specificity (TNR):  99.677% (13285 of 13328)\n",
            "    Precision:           0.000% (0 of 43)\n",
            "    Neg. pred. value:   99.357% (13285 of 13371)\n",
            "Class 43:\n",
            "    Sensitivity (TPR):   0.000% (0 of 23)\n",
            "    Specificity (TNR): 100.000% (13391 of 13391)\n",
            "    Precision:             nan% (0 of 0)\n",
            "    Neg. pred. value:   99.829% (13391 of 13414)\n",
            "Class 44:\n",
            "    Sensitivity (TPR):   7.463% (60 of 804)\n",
            "    Specificity (TNR):  92.546% (11670 of 12610)\n",
            "    Precision:           6.000% (60 of 1000)\n",
            "    Neg. pred. value:   94.007% (11670 of 12414)\n",
            "Class 45:\n",
            "    Sensitivity (TPR):   0.000% (0 of 20)\n",
            "    Specificity (TNR): 100.000% (13394 of 13394)\n",
            "    Precision:             nan% (0 of 0)\n",
            "    Neg. pred. value:   99.851% (13394 of 13414)\n",
            "Class 46:\n",
            "    Sensitivity (TPR):   0.000% (0 of 23)\n",
            "    Specificity (TNR): 100.000% (13391 of 13391)\n",
            "    Precision:             nan% (0 of 0)\n",
            "    Neg. pred. value:   99.829% (13391 of 13414)\n",
            "Class 47:\n",
            "    Sensitivity (TPR):   2.268% (12 of 529)\n",
            "    Specificity (TNR):  96.500% (12434 of 12885)\n",
            "    Precision:           2.592% (12 of 463)\n",
            "    Neg. pred. value:   96.008% (12434 of 12951)\n",
            "Class 48:\n",
            "    Sensitivity (TPR):   4.813% (18 of 374)\n",
            "    Specificity (TNR):  95.767% (12488 of 13040)\n",
            "    Precision:           3.158% (18 of 570)\n",
            "    Neg. pred. value:   97.228% (12488 of 12844)\n",
            "Class 49:\n",
            "    Sensitivity (TPR):   1.190% (1 of 84)\n",
            "    Specificity (TNR):  99.445% (13256 of 13330)\n",
            "    Precision:           1.333% (1 of 75)\n",
            "    Neg. pred. value:   99.378% (13256 of 13339)\n",
            "Class 50:\n",
            "    Sensitivity (TPR):   0.000% (0 of 18)\n",
            "    Specificity (TNR): 100.000% (13396 of 13396)\n",
            "    Precision:             nan% (0 of 0)\n",
            "    Neg. pred. value:   99.866% (13396 of 13414)\n",
            "Class 51:\n",
            "    Sensitivity (TPR):   6.115% (34 of 556)\n",
            "    Specificity (TNR):  94.276% (12122 of 12858)\n",
            "    Precision:           4.416% (34 of 770)\n",
            "    Neg. pred. value:   95.872% (12122 of 12644)\n",
            "Class 52:\n",
            "    Sensitivity (TPR):   0.000% (0 of 28)\n",
            "    Specificity (TNR):  99.978% (13383 of 13386)\n",
            "    Precision:           0.000% (0 of 3)\n",
            "    Neg. pred. value:   99.791% (13383 of 13411)\n",
            "Class 53:\n",
            "    Sensitivity (TPR):   0.000% (0 of 13)\n",
            "    Specificity (TNR):  99.993% (13400 of 13401)\n",
            "    Precision:           0.000% (0 of 1)\n",
            "    Neg. pred. value:   99.903% (13400 of 13413)\n",
            "Class 54:\n",
            "    Sensitivity (TPR):   0.000% (0 of 2)\n",
            "    Specificity (TNR): 100.000% (13412 of 13412)\n",
            "    Precision:             nan% (0 of 0)\n",
            "    Neg. pred. value:   99.985% (13412 of 13414)\n",
            "Class 55:\n",
            "    Sensitivity (TPR):   2.339% (8 of 342)\n",
            "    Specificity (TNR):  97.567% (12754 of 13072)\n",
            "    Precision:           2.454% (8 of 326)\n",
            "    Neg. pred. value:   97.448% (12754 of 13088)\n",
            "Class 56:\n",
            "    Sensitivity (TPR):   0.000% (0 of 6)\n",
            "    Specificity (TNR): 100.000% (13408 of 13408)\n",
            "    Precision:             nan% (0 of 0)\n",
            "    Neg. pred. value:   99.955% (13408 of 13414)\n",
            "Class 57:\n",
            "    Sensitivity (TPR):   0.000% (0 of 47)\n",
            "    Specificity (TNR):  99.589% (13312 of 13367)\n",
            "    Precision:           0.000% (0 of 55)\n",
            "    Neg. pred. value:   99.648% (13312 of 13359)\n",
            "Class 58:\n",
            "    Sensitivity (TPR):   4.061% (16 of 394)\n",
            "    Specificity (TNR):  94.316% (12280 of 13020)\n",
            "    Precision:           2.116% (16 of 756)\n",
            "    Neg. pred. value:   97.014% (12280 of 12658)\n",
            "Class 59:\n",
            "    Sensitivity (TPR):   2.288% (7 of 306)\n",
            "    Specificity (TNR):  98.551% (12918 of 13108)\n",
            "    Precision:           3.553% (7 of 197)\n",
            "    Neg. pred. value:   97.738% (12918 of 13217)\n",
            "Class 60:\n",
            "    Sensitivity (TPR):   0.000% (0 of 44)\n",
            "    Specificity (TNR):  99.798% (13343 of 13370)\n",
            "    Precision:           0.000% (0 of 27)\n",
            "    Neg. pred. value:   99.671% (13343 of 13387)\n",
            "Class 61:\n",
            "    Sensitivity (TPR):   3.156% (16 of 507)\n",
            "    Specificity (TNR):  96.157% (12411 of 12907)\n",
            "    Precision:           3.125% (16 of 512)\n",
            "    Neg. pred. value:   96.194% (12411 of 12902)\n",
            "Class 62:\n",
            "    Sensitivity (TPR):   1.887% (6 of 318)\n",
            "    Specificity (TNR):  97.518% (12771 of 13096)\n",
            "    Precision:           1.813% (6 of 331)\n",
            "    Neg. pred. value:   97.615% (12771 of 13083)\n",
            "Class 63:\n",
            "    Sensitivity (TPR):   0.649% (1 of 154)\n",
            "    Specificity (TNR):  98.967% (13123 of 13260)\n",
            "    Precision:           0.725% (1 of 138)\n",
            "    Neg. pred. value:   98.848% (13123 of 13276)\n",
            "Class 64:\n",
            "    Sensitivity (TPR):   0.725% (1 of 138)\n",
            "    Specificity (TNR):  98.780% (13114 of 13276)\n",
            "    Precision:           0.613% (1 of 163)\n",
            "    Neg. pred. value:   98.966% (13114 of 13251)\n",
            "Class 65:\n",
            "    Sensitivity (TPR):   6.429% (27 of 420)\n",
            "    Specificity (TNR):  94.975% (12341 of 12994)\n",
            "    Precision:           3.971% (27 of 680)\n",
            "    Neg. pred. value:   96.914% (12341 of 12734)\n",
            "Class 66:\n",
            "    Sensitivity (TPR):     nan% (0 of 0)\n",
            "    Specificity (TNR): 100.000% (13414 of 13414)\n",
            "    Precision:             nan% (0 of 0)\n",
            "    Neg. pred. value:  100.000% (13414 of 13414)\n",
            "\n",
            "Overall accuracy:    3.847% (516 of 13414)\n",
            "Balanced accuracy:   1.511%\n"
          ]
        },
        {
          "output_type": "stream",
          "name": "stderr",
          "text": [
            "/usr/local/lib/python3.7/dist-packages/ipykernel_launcher.py:30: RuntimeWarning: invalid value encountered in long_scalars\n",
            "/usr/local/lib/python3.7/dist-packages/ipykernel_launcher.py:28: RuntimeWarning: invalid value encountered in long_scalars\n"
          ]
        },
        {
          "output_type": "execute_result",
          "data": {
            "text/plain": [
              "array([[ 0,  0,  0, ...,  0,  2,  0],\n",
              "       [ 1,  0,  0, ...,  2, 13,  0],\n",
              "       [ 0,  0,  0, ...,  0,  5,  0],\n",
              "       ...,\n",
              "       [ 0,  0,  0, ...,  1,  8,  0],\n",
              "       [ 1,  0,  0, ...,  3, 27,  0],\n",
              "       [ 0,  0,  0, ...,  0,  0,  0]])"
            ]
          },
          "metadata": {},
          "execution_count": 19
        }
      ]
    },
    {
      "cell_type": "code",
      "metadata": {
        "id": "ZhBMWO3F2R82",
        "colab": {
          "base_uri": "https://localhost:8080/",
          "height": 533
        },
        "outputId": "471789a0-656d-4965-964a-aa010e9cab73"
      },
      "source": [
        "from tensorflow.keras.utils import plot_model\n",
        "\n",
        "plot_model(best_model, show_shapes = True)"
      ],
      "execution_count": 20,
      "outputs": [
        {
          "output_type": "execute_result",
          "data": {
            "image/png": "[encoded data removed]",
            "text/plain": [
              "<IPython.core.display.Image object>"
            ]
          },
          "metadata": {},
          "execution_count": 20
        }
      ]
    }
  ]
}